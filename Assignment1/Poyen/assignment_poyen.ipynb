{
 "cells": [
  {
   "cell_type": "markdown",
   "id": "3c531158",
   "metadata": {},
   "source": [
    "# IDS Assignment Part 1 - <font color=\"red\"><h7>Deadline: 18/12/2022 23:59</h7></font>\n",
    "This is the first part of the assignments in IDS 2022/2023. \n",
    "Please use this Jupyter notebook to work on the questions posed in the assignment. When you are done, upload the notebook in Moodle at the designated activity. This is the _only_ file that is required. A separate report is _not_ needed and will not be considered for grading. \n",
    "\n",
    "Give your commented Python code and answers in the corresponding provided cells. Make sure to answer all questions in a clear and explicit manner and discuss your outputs. _Please do not change the general structure of this notebook_. You can, however, add additional markdown or code cells if necessary. <b>Please DO NOT CLEAR THE OUTPUT of the notebook you are submitting! </b>\n",
    "\n",
    "<font color=\"red\"> *Please make sure to include the names and matriculation numbers of all group members in the slot provided below.* </font> If a name or a student id is missing, the student will not receive any points.\n",
    "\n",
    "Hint 1: While working on the assignment, you will get a better understanding of the dataset. Feel free to generate additional results and visualizations to support your answers. For example, this might be useful regarding data modification, data simplification, or output interpretation. <font color=\"red\">Ensure that all your claims are supported.</font>\n",
    "\n",
    "Hint 2: <font color=\"red\">Plan your time wisely. </font> A few parts of this assignment may take some time to run. It might be necessary to consider time management when you plan your group work. Also, do not attempt to upload your assignment at the last minute before the deadline. This often does not work, and you will miss the deadline. Late submissions will not be considered.\n",
    "\n",
    "Hint 3: RWTHmoodle allows multiple submissions, with every new submission overwriting the previous one. <b>Partial submissions are therefore possible and encouraged. </b> This might be helpful in case of technical issues with RWTHMoodle, which may occur close to the deadline."
   ]
  },
  {
   "cell_type": "markdown",
   "id": "9e826e43",
   "metadata": {},
   "source": [
    "<font color=\"red\"><b>Student Names and IDs:\n",
    "    \n",
    "    1. Po-Yen Chen 429195\n",
    "    \n",
    "    2. \n",
    "    \n",
    "    3."
   ]
  },
  {
   "cell_type": "markdown",
   "id": "171c05f0",
   "metadata": {},
   "source": [
    "For those using Jupyter Notebook in your local environments, please install the following library in your environment:\n",
    "```pip install umap-learn==0.5.3```"
   ]
  },
  {
   "cell_type": "code",
   "execution_count": 1,
   "id": "ab570761-1a8a-4c62-8de2-534f88604bb8",
   "metadata": {
    "colab": {
     "base_uri": "https://localhost:8080/"
    },
    "id": "ab570761-1a8a-4c62-8de2-534f88604bb8",
    "outputId": "a8278aa6-aa87-4cea-c7f7-10ab381b364f"
   },
   "outputs": [],
   "source": [
    "#your imports (only use libraries provided in the environment)\n",
    "import numpy as np\n",
    "import pandas as pd\n",
    "import matplotlib.pyplot as plt\n",
    "import seaborn as sns"
   ]
  },
  {
   "cell_type": "markdown",
   "id": "le9qm43wNPGY",
   "metadata": {
    "id": "le9qm43wNPGY"
   },
   "source": [
    "# Pricing your AirBnB"
   ]
  },
  {
   "cell_type": "markdown",
   "id": "8dfa8631-4eba-4472-b981-510d243e1b2b",
   "metadata": {
    "id": "8dfa8631-4eba-4472-b981-510d243e1b2b"
   },
   "source": [
    "You finally made it! Working as a data scientist at an established process mining company in New York, you earned so much money that you can buy a flat for yourself. You decide to buy a 2-room apartment in Manhattan. Congratulations!\n",
    "\n",
    "Currently, you are still living in your rental apartment and are tied to a long-running rental contract. You can only use the apartment in 5 years from now. Therefore, you want to use the apartment as an AirBnB in the meantime, generating some consistent income. \n",
    "\n",
    "\n",
    "You have no clue how you should price your AirBnB per night (you are living in New York, so you never needed to book an AirBnB). You decide to leverage your unique skill set and perform a data-driven, informed decision. You collect all the data you can get your hands on by traversing all New York apartments. The retrieved data set **AirBnB_original.csv** is your starting point for investigation."
   ]
  },
  {
   "cell_type": "markdown",
   "id": "7e21b607-828f-47b4-a57a-18b6ccab6322",
   "metadata": {
    "id": "7e21b607-828f-47b4-a57a-18b6ccab6322"
   },
   "source": [
    "## Question 1: Exploring the Data Set (18 points)"
   ]
  },
  {
   "cell_type": "markdown",
   "id": "3a79e889",
   "metadata": {
    "id": "3a79e889"
   },
   "source": [
    "As with every data set, you first want to know what you are dealing with. You perform some exploratory data analysis and clean the data along the way."
   ]
  },
  {
   "cell_type": "markdown",
   "id": "8L8J85EfPRoZ",
   "metadata": {
    "id": "8L8J85EfPRoZ"
   },
   "source": [
    "Show a few data points contained in the data set. Include all attributes. **(0.5 point)**"
   ]
  },
  {
   "cell_type": "code",
   "execution_count": null,
   "id": "ly3THPi7PdLJ",
   "metadata": {
    "id": "ly3THPi7PdLJ"
   },
   "outputs": [],
   "source": [
    "# Your answer goes here\n",
    "\n",
    "AirBnB_original = pd.read_csv('AirBnB_original.csv')\n",
    "print(AirBnB_original.shape)\n",
    "print(AirBnB_original.head())"
   ]
  },
  {
   "cell_type": "markdown",
   "id": "9_9aEzu5PI1h",
   "metadata": {
    "id": "9_9aEzu5PI1h"
   },
   "source": [
    "### Basic Cleaning (4 points)"
   ]
  },
  {
   "cell_type": "markdown",
   "id": "38360b13",
   "metadata": {
    "id": "38360b13"
   },
   "source": [
    "First, you have to remove NaN entries across the data set such that we only keep rows without any NaN value. How many rows did you remove? **(0.5 points)**"
   ]
  },
  {
   "cell_type": "code",
   "execution_count": null,
   "id": "d8b96e7f",
   "metadata": {
    "id": "ly3THPi7PdLJ"
   },
   "outputs": [],
   "source": [
    "# Your answer goes here\n",
    "AirBnB_original = AirBnB_original.dropna()\n",
    "AirBnB_original = AirBnB_original.reset_index(drop=True)\n",
    "print(AirBnB_original.shape)\n",
    "print('We remove 1477 NaN dataset.')"
   ]
  },
  {
   "cell_type": "markdown",
   "id": "1dee5fbc",
   "metadata": {
    "id": "1dee5fbc"
   },
   "source": [
    "Since duplicated entries are misleading, we want to remove duplicate flats (identified by their id), such that we only keep them once and create a new dataset. How many duplicates are removed? **(0.5 point)**"
   ]
  },
  {
   "cell_type": "code",
   "execution_count": null,
   "id": "403479a7",
   "metadata": {
    "id": "ly3THPi7PdLJ"
   },
   "outputs": [],
   "source": [
    "# Your answer goes here\n",
    "AirBnB_original = AirBnB_original.drop_duplicates(keep='first', inplace=False)\n",
    "print(AirBnB_original.shape)\n",
    "print('We removes 273 duplicated dataset.')"
   ]
  },
  {
   "cell_type": "markdown",
   "id": "Yty_b-ftfTPc",
   "metadata": {
    "id": "Yty_b-ftfTPc"
   },
   "source": [
    "From now on, you work with the dataset **AirBnB_cleaned.csv**."
   ]
  },
  {
   "cell_type": "markdown",
   "id": "g-rLfHOoEGuz",
   "metadata": {
    "id": "g-rLfHOoEGuz"
   },
   "source": [
    "To get a feeling for nightly prices in New York, you take a look at the price attribute. Calculate the average price, the first and third quantiles, and the standard deviation. **(1 point)**"
   ]
  },
  {
   "cell_type": "code",
   "execution_count": 2,
   "id": "76bb6f5a",
   "metadata": {
    "id": "ly3THPi7PdLJ"
   },
   "outputs": [
    {
     "name": "stdout",
     "output_type": "stream",
     "text": [
      "The average price is 625\n",
      "The first, the third percentile are 340 and 913 , respectively.\n",
      "The standard deviation is 331.23\n"
     ]
    }
   ],
   "source": [
    "# Your answer goes here\n",
    "AirBnB_cleaned = pd.read_csv('AirBnB_cleaned.csv')\n",
    "price = AirBnB_cleaned.price\n",
    "s = np.sum(price)\n",
    "\n",
    "# Calculate the average price\n",
    "print('The average price is', round(s/70842))\n",
    "\n",
    "# Calculate the first, the third percentile\n",
    "p1 = np.percentile(price, 25)\n",
    "p2 = np.percentile(price, 75)\n",
    "print('The first, the third percentile are', round(p1),'and', round(p2), ', respectively.')\n",
    "      \n",
    "# Calculate the standard deviation\n",
    "std = np.std(price)\n",
    "print('The standard deviation is', round(std,2))"
   ]
  },
  {
   "cell_type": "markdown",
   "id": "eqDy9wQIElfF",
   "metadata": {
    "id": "eqDy9wQIElfF"
   },
   "source": [
    "You want to get a more visual picture of the price range. Use a histogram and boxplot to show the distribution of prices on the entire dataset. **(2 points)**"
   ]
  },
  {
   "cell_type": "code",
   "execution_count": null,
   "id": "efc0714e",
   "metadata": {
    "id": "ly3THPi7PdLJ"
   },
   "outputs": [],
   "source": [
    "# Your answer goes here\n",
    "# Histogram\n",
    "sns.displot(data=price, kind=\"hist\")"
   ]
  },
  {
   "cell_type": "code",
   "execution_count": null,
   "id": "d38fc8bd",
   "metadata": {},
   "outputs": [],
   "source": [
    "# Boxplot\n",
    "plt.boxplot(price)"
   ]
  },
  {
   "cell_type": "markdown",
   "id": "3RkQxNBpQ7mC",
   "metadata": {
    "id": "3RkQxNBpQ7mC"
   },
   "source": [
    "### Exploring Price Relationships (3 points)"
   ]
  },
  {
   "cell_type": "markdown",
   "id": "lKi9SkO1RF56",
   "metadata": {
    "id": "lKi9SkO1RF56"
   },
   "source": [
    "To inform our pricing decision, we want to investigate some differentiating factors for pricing apartments."
   ]
  },
  {
   "cell_type": "markdown",
   "id": "nClcY_FV_AKv",
   "metadata": {
    "id": "nClcY_FV_AKv"
   },
   "source": [
    "Since you have an overview of the prices and their distribution, you want to investigate which features of your dataset you might use to make your pricing decision. To do so, discuss each feature of the dataset and already rule out features that will definitely not impact the pricing decision. Below you can find a brief description of each feature: \n",
    "\n",
    "- id: Unique identifier for an apartment\n",
    "- host id: Identifier of the host offering a certain apartment\n",
    "- neighborhood group: Name of a neighborhood group in which an apartment is located\n",
    "- neighborhood: More fine-grained view on neighborhoods than neighborhood group\n",
    "- lat: Latitude coordinate of an apartment\n",
    "- long: Longitude coordinate of an apartment\n",
    "- country: The country in which an apartment is located\n",
    "- country code: Code of the country in which an apartment is located\n",
    "- instant bookable: Boolean values if an apartment is instantly bookable\n",
    "- cancellation policy: Policy for cancellation of booking\n",
    "- room type: Type of apartment/room\n",
    "- construction year: Year of construction of apartment\n",
    "- price: Price for renting an apartment\n",
    "- service fee: Fee of service\n",
    "- minimum nights: Number of minimum nights to rent an apartment\n",
    "- number of reviews: Number of reviews for an apartment\n",
    "- review rate number:  Review rate for an apartment (1 to 5)\n",
    "- calculated host listings count: Number of listings a host has\n",
    "- number rooms: Number of rooms in an apartment\n"
   ]
  },
  {
   "cell_type": "code",
   "execution_count": null,
   "id": "2146a915",
   "metadata": {
    "id": "ly3THPi7PdLJ"
   },
   "outputs": [],
   "source": [
    "# Your answer goes here\n"
   ]
  },
  {
   "cell_type": "markdown",
   "id": "1aac44c1",
   "metadata": {},
   "source": [
    "_Answer:_ Intuitively, the id and the host id would definitely no effect on price decision. Other features we have to plot the graph to decide their relationship.\n"
   ]
  },
  {
   "cell_type": "markdown",
   "id": "QlBJgLSjh2l5",
   "metadata": {
    "id": "QlBJgLSjh2l5"
   },
   "source": [
    "### Univariate Analysis (4.5 points)"
   ]
  },
  {
   "cell_type": "markdown",
   "id": "X0phX-tc_txX",
   "metadata": {
    "id": "X0phX-tc_txX"
   },
   "source": [
    "In the following, you want to analyze which features influence the price. You do this univariately, i.e., look at the relationship between one feature and the price individually. No matter which features you concluded to be useful in the last task, **you will consider the following seven features: service fee, minimum nights, neighborhood group, room type, cancellation policy, construction year, and the number of rooms.**"
   ]
  },
  {
   "cell_type": "markdown",
   "id": "ymD1OuKhE58B",
   "metadata": {
    "id": "ymD1OuKhE58B"
   },
   "source": [
    "First, we look closely at the relationship between price and service fee. To do so, create a joint plot for these two attributes. What is your finding? Is this a helpful feature for our pricing decision? **(1 point)**"
   ]
  },
  {
   "cell_type": "code",
   "execution_count": null,
   "id": "7d5c1da7",
   "metadata": {
    "id": "ly3THPi7PdLJ"
   },
   "outputs": [],
   "source": [
    "# Your answer goes here\n",
    "sns.jointplot(data=AirBnB_cleaned, x='price', y=\"service fee\", kind='kde');"
   ]
  },
  {
   "cell_type": "markdown",
   "id": "d7262980",
   "metadata": {},
   "source": [
    "_Answer:_ The price and the service fee have positive correlation.\n",
    "\n"
   ]
  },
  {
   "cell_type": "markdown",
   "id": "2rcPfXMcGk1M",
   "metadata": {
    "id": "2rcPfXMcGk1M"
   },
   "source": [
    "Next, we are interested in the relationship between the number of minimum nights and the price. To analyze it, create a joint plot with a regression. Describe your observation. **(1 point)**"
   ]
  },
  {
   "cell_type": "code",
   "execution_count": null,
   "id": "b028e83e",
   "metadata": {
    "id": "ly3THPi7PdLJ"
   },
   "outputs": [],
   "source": [
    "# Your answer goes here\n",
    "sns.jointplot(data=AirBnB_cleaned, x='minimum nights', y=\"price\", kind='reg');"
   ]
  },
  {
   "cell_type": "markdown",
   "id": "f4cd05bf",
   "metadata": {},
   "source": [
    "_Answer_: Minimum nights and the price have no direct relationship.\n",
    "\n"
   ]
  },
  {
   "cell_type": "markdown",
   "id": "6MIVIHji_tG1",
   "metadata": {
    "id": "6MIVIHji_tG1"
   },
   "source": [
    "To further investigate the pricing decision, you look at the remaining five features: neighborhood group, room type, cancellation policy, construction year, and the number of rooms.\n",
    "To get an overview, you decide to create box plots (including the mean) for each of these features to visualize their influence on the price. Describe your findings. Which values of the features influence the price? **(2.5 point)**"
   ]
  },
  {
   "cell_type": "code",
   "execution_count": null,
   "id": "301f080d",
   "metadata": {
    "id": "ly3THPi7PdLJ"
   },
   "outputs": [],
   "source": [
    "# Your answer goes here\n",
    "# create box plots (including the mean) for each of these features to visualize their influence on the price\n",
    "sns.boxplot(x=\"neighborhood group\", y=\"price\", data=AirBnB_cleaned)\n"
   ]
  },
  {
   "cell_type": "code",
   "execution_count": null,
   "id": "0d923f4b",
   "metadata": {},
   "outputs": [],
   "source": [
    "sns.boxplot(x=\"room type\", y=\"price\", data=AirBnB_cleaned)"
   ]
  },
  {
   "cell_type": "code",
   "execution_count": null,
   "id": "cd149945",
   "metadata": {},
   "outputs": [],
   "source": [
    "sns.boxplot(x=\"cancellation policy\", y=\"price\", data=AirBnB_cleaned) "
   ]
  },
  {
   "cell_type": "code",
   "execution_count": null,
   "id": "ee8502ed",
   "metadata": {},
   "outputs": [],
   "source": [
    "plt.figure(figsize=(15,10))\n",
    "sns.boxplot(x=\"construction year\", y=\"price\", data=AirBnB_cleaned)"
   ]
  },
  {
   "cell_type": "code",
   "execution_count": null,
   "id": "ba29fbae",
   "metadata": {},
   "outputs": [],
   "source": [
    "sns.boxplot(x=\"number rooms\", y=\"price\", data=AirBnB_cleaned)"
   ]
  },
  {
   "cell_type": "markdown",
   "id": "16206993",
   "metadata": {},
   "source": [
    "_Answer:_ Compared to these five features, increasing the number of rooms would increse the price. Other features have no direct effect to the price.\n",
    "\n"
   ]
  },
  {
   "cell_type": "markdown",
   "id": "1Bs51U6ch9Ka",
   "metadata": {
    "id": "1Bs51U6ch9Ka"
   },
   "source": [
    "### Multivariate Analysis (5 points)"
   ]
  },
  {
   "cell_type": "markdown",
   "id": "LZJDkd6xiJuy",
   "metadata": {
    "id": "LZJDkd6xiJuy"
   },
   "source": [
    "As the univariate analysis of price relationships provided only limited insights, you decide to visualize some multivariate investigations of the price. **No matter what you concluded in the last section, you will use the features construction year, number of rooms, cancellation policy, room type, and neighborhood group in the multivariate analysis.**\n",
    "For each pair of features, create a grouped boxplot (using the hue argument) and investigate whether the two features together allow for an explanation of price differences. In the end, conclude which combination of features should be used to make your pricing decision. "
   ]
  },
  {
   "cell_type": "markdown",
   "id": "a1af70ad",
   "metadata": {},
   "source": [
    "#### Multivariate Analysis for Neighborhood Group "
   ]
  },
  {
   "cell_type": "code",
   "execution_count": null,
   "id": "19b4a749",
   "metadata": {
    "id": "ly3THPi7PdLJ"
   },
   "outputs": [],
   "source": [
    "# Your answer goes here\n",
    "plt.figure(figsize=(20,10))\n",
    "sns.boxplot(data=AirBnB_cleaned, x=\"construction year\", y=\"price\", hue = \"neighborhood group\")"
   ]
  },
  {
   "cell_type": "code",
   "execution_count": null,
   "id": "410f0e67",
   "metadata": {},
   "outputs": [],
   "source": [
    "plt.figure(figsize=(20,10))\n",
    "sns.boxplot(data=AirBnB_cleaned, x=\"number rooms\", y=\"price\", hue = \"neighborhood group\")"
   ]
  },
  {
   "cell_type": "code",
   "execution_count": null,
   "id": "40a53ab2",
   "metadata": {},
   "outputs": [],
   "source": [
    "plt.figure(figsize=(15,5))\n",
    "sns.boxplot(data=AirBnB_cleaned, x=\"cancellation policy\", y=\"price\", hue = \"neighborhood group\")"
   ]
  },
  {
   "cell_type": "code",
   "execution_count": null,
   "id": "6161b00e",
   "metadata": {},
   "outputs": [],
   "source": [
    "plt.figure(figsize=(15,5))\n",
    "sns.boxplot(data=AirBnB_cleaned, x=\"room type\", y=\"price\", hue = \"neighborhood group\")"
   ]
  },
  {
   "cell_type": "markdown",
   "id": "e8b80c4f",
   "metadata": {},
   "source": [
    "_Answer:_ The number of rooms and the neighborhoodgroup would affect the price strongly.\n",
    "\n"
   ]
  },
  {
   "cell_type": "markdown",
   "id": "ddbbd25d",
   "metadata": {},
   "source": [
    "#### Multivariate Analysis for Room Type"
   ]
  },
  {
   "cell_type": "code",
   "execution_count": null,
   "id": "809668e7",
   "metadata": {},
   "outputs": [],
   "source": [
    "# Your answer goes here\n",
    "plt.figure(figsize=(20,10))\n",
    "sns.boxplot(data=AirBnB_cleaned, x=\"construction year\", y=\"price\", hue = \"room type\")"
   ]
  },
  {
   "cell_type": "code",
   "execution_count": null,
   "id": "e274a2d1",
   "metadata": {},
   "outputs": [],
   "source": [
    "plt.figure(figsize=(15,5))\n",
    "sns.boxplot(data=AirBnB_cleaned, x=\"cancellation policy\", y=\"price\", hue = \"room type\")"
   ]
  },
  {
   "cell_type": "code",
   "execution_count": null,
   "id": "bdaadde4",
   "metadata": {},
   "outputs": [],
   "source": [
    "plt.figure(figsize=(15,5))\n",
    "sns.boxplot(data=AirBnB_cleaned, x=\"number rooms\", y=\"price\", hue = \"room type\")"
   ]
  },
  {
   "cell_type": "code",
   "execution_count": null,
   "id": "18df6124",
   "metadata": {},
   "outputs": [],
   "source": [
    "plt.figure(figsize=(20,10))\n",
    "sns.boxplot(data=AirBnB_cleaned, x=\"neighborhood group\", y=\"price\", hue = \"room type\")"
   ]
  },
  {
   "cell_type": "markdown",
   "id": "72041142",
   "metadata": {},
   "source": [
    "_Answer:_ The number of room and the room type would affect the price strongly.\n"
   ]
  },
  {
   "cell_type": "markdown",
   "id": "e11db5c3",
   "metadata": {},
   "source": [
    "#### Multivariate Analysis for Number of Rooms"
   ]
  },
  {
   "cell_type": "code",
   "execution_count": null,
   "id": "512f825d",
   "metadata": {},
   "outputs": [],
   "source": [
    "# Your answer goes here\n",
    "plt.figure(figsize=(20,10))\n",
    "sns.boxplot(data=AirBnB_cleaned, x=\"construction year\", y=\"price\", hue = \"number rooms\")\n"
   ]
  },
  {
   "cell_type": "code",
   "execution_count": null,
   "id": "619c3f5d",
   "metadata": {},
   "outputs": [],
   "source": [
    "plt.figure(figsize=(20,10))\n",
    "sns.boxplot(data=AirBnB_cleaned, x=\"cancellation policy\", y=\"price\", hue = \"number rooms\")"
   ]
  },
  {
   "cell_type": "code",
   "execution_count": null,
   "id": "c45cb815",
   "metadata": {},
   "outputs": [],
   "source": [
    "plt.figure(figsize=(20,10))\n",
    "sns.boxplot(data=AirBnB_cleaned, x=\"room type\", y=\"price\", hue = \"number rooms\")"
   ]
  },
  {
   "cell_type": "code",
   "execution_count": null,
   "id": "067654f4",
   "metadata": {},
   "outputs": [],
   "source": [
    "plt.figure(figsize=(20,10))\n",
    "sns.boxplot(data=AirBnB_cleaned, x=\"neighborhood group\", y=\"price\", hue = \"number rooms\")"
   ]
  },
  {
   "cell_type": "markdown",
   "id": "5c95f5b1",
   "metadata": {},
   "source": [
    "_Answer:_ The room type and the number of rooms would affect the price strongly.\n",
    "\n"
   ]
  },
  {
   "cell_type": "markdown",
   "id": "419042f2",
   "metadata": {},
   "source": [
    "#### Multivariate Analysis for Construction Year"
   ]
  },
  {
   "cell_type": "code",
   "execution_count": null,
   "id": "43469f1b",
   "metadata": {},
   "outputs": [],
   "source": [
    "# Your answer goes here\n",
    "plt.figure(figsize=(20,10))\n",
    "sns.boxplot(data=AirBnB_cleaned, x=\"cancellation policy\", y=\"price\", hue = \"construction year\")"
   ]
  },
  {
   "cell_type": "code",
   "execution_count": null,
   "id": "5f07e973",
   "metadata": {},
   "outputs": [],
   "source": [
    "plt.figure(figsize=(20,10))\n",
    "sns.boxplot(data=AirBnB_cleaned, x=\"number rooms\", y=\"price\", hue = \"construction year\")"
   ]
  },
  {
   "cell_type": "code",
   "execution_count": null,
   "id": "42269f42",
   "metadata": {},
   "outputs": [],
   "source": [
    "plt.figure(figsize=(20,10))\n",
    "sns.boxplot(data=AirBnB_cleaned, x=\"room type\", y=\"price\", hue = \"construction year\")"
   ]
  },
  {
   "cell_type": "code",
   "execution_count": null,
   "id": "856c8fa9",
   "metadata": {},
   "outputs": [],
   "source": [
    "plt.figure(figsize=(20,10))\n",
    "sns.boxplot(data=AirBnB_cleaned, x=\"neighborhood group\", y=\"price\", hue = \"construction year\")"
   ]
  },
  {
   "cell_type": "markdown",
   "id": "e77ae423",
   "metadata": {},
   "source": [
    "_Answer:_ The number of rooms and the construction year would affect the price strongly.\n",
    "\n"
   ]
  },
  {
   "cell_type": "markdown",
   "id": "2kZI5CkIbahY",
   "metadata": {
    "id": "2kZI5CkIbahY"
   },
   "source": [
    "### Selection of Variables (1 point)"
   ]
  },
  {
   "cell_type": "markdown",
   "id": "UUkY4fg4emGQ",
   "metadata": {
    "id": "UUkY4fg4emGQ"
   },
   "source": [
    "Please argue: Which combinations of variables would you consider for pricing your AirBnB?"
   ]
  },
  {
   "cell_type": "markdown",
   "id": "e5808a47-1108-43c8-b371-aeb1f893e511",
   "metadata": {},
   "source": [
    "_Answer:_ The combination of room type and the number of rooms would affect the price directly. However, we need more data about different room type with different number of rooms to confirm my inference.\n"
   ]
  },
  {
   "cell_type": "markdown",
   "id": "9fb5625b-7666-447e-848b-6a7d239a6d0b",
   "metadata": {
    "id": "9fb5625b-7666-447e-848b-6a7d239a6d0b",
    "tags": []
   },
   "source": [
    "## Question 2: Setting the Price (45 points)"
   ]
  },
  {
   "cell_type": "markdown",
   "id": "UVRItjgwQSNb",
   "metadata": {
    "id": "UVRItjgwQSNb"
   },
   "source": [
    "No matter what you have deducted from your analysis, from now on, you will continue only with three features: **The number of rooms, the neighborhood group, and the room type.**"
   ]
  },
  {
   "cell_type": "markdown",
   "id": "c7128fc0-c9cc-4ecb-bc37-147ea4bfbf07",
   "metadata": {
    "id": "c7128fc0-c9cc-4ecb-bc37-147ea4bfbf07"
   },
   "source": [
    "**Enter Toby**: Toby is your long-term friend back from studying at RWTH. While you studied computer science, Toby studied business administration to become a big shot at Wall Street. He currently works in the back office of some swiss credit institute just across the corner from your office. You decide to drop by and get some of his input for your pricing decision. \n",
    "\n",
    "Toby proposes to first use comparables pricing to price your apartment. Comparables pricing is an established concept in economics and means that you price your apartment close to similar apartments. \n",
    "You will use different techniques to find similar apartments and set a price."
   ]
  },
  {
   "cell_type": "markdown",
   "id": "b139f2fd-5b7e-4086-8a1f-6098df4f6d25",
   "metadata": {
    "id": "b139f2fd-5b7e-4086-8a1f-6098df4f6d25"
   },
   "source": [
    "## Baseline (5 points)"
   ]
  },
  {
   "cell_type": "markdown",
   "id": "tD6hGWmni8eA",
   "metadata": {
    "id": "tD6hGWmni8eA"
   },
   "source": [
    "First, you want to set a baseline to compare against. You use the mean absolute error as metric. The baseline should always use the average price of all apartments as a recommended price. Evaluate on a test set of 5%. The same test set should also be used later (you can use the random_state argument in scikit learn's train_test_split, but you need to stay consistent for different questions)."
   ]
  },
  {
   "cell_type": "code",
   "execution_count": 3,
   "id": "a88775c6",
   "metadata": {},
   "outputs": [
    {
     "data": {
      "text/html": [
       "<div>\n",
       "<style scoped>\n",
       "    .dataframe tbody tr th:only-of-type {\n",
       "        vertical-align: middle;\n",
       "    }\n",
       "\n",
       "    .dataframe tbody tr th {\n",
       "        vertical-align: top;\n",
       "    }\n",
       "\n",
       "    .dataframe thead th {\n",
       "        text-align: right;\n",
       "    }\n",
       "</style>\n",
       "<table border=\"1\" class=\"dataframe\">\n",
       "  <thead>\n",
       "    <tr style=\"text-align: right;\">\n",
       "      <th></th>\n",
       "      <th>neighborhood group</th>\n",
       "      <th>room type</th>\n",
       "      <th>price</th>\n",
       "      <th>number rooms</th>\n",
       "    </tr>\n",
       "  </thead>\n",
       "  <tbody>\n",
       "    <tr>\n",
       "      <th>0</th>\n",
       "      <td>Manhattan</td>\n",
       "      <td>Entire home/apt</td>\n",
       "      <td>142</td>\n",
       "      <td>2</td>\n",
       "    </tr>\n",
       "    <tr>\n",
       "      <th>1</th>\n",
       "      <td>Manhattan</td>\n",
       "      <td>Private room</td>\n",
       "      <td>620</td>\n",
       "      <td>1</td>\n",
       "    </tr>\n",
       "    <tr>\n",
       "      <th>2</th>\n",
       "      <td>Brooklyn</td>\n",
       "      <td>Entire home/apt</td>\n",
       "      <td>368</td>\n",
       "      <td>2</td>\n",
       "    </tr>\n",
       "    <tr>\n",
       "      <th>3</th>\n",
       "      <td>Manhattan</td>\n",
       "      <td>Entire home/apt</td>\n",
       "      <td>204</td>\n",
       "      <td>1</td>\n",
       "    </tr>\n",
       "    <tr>\n",
       "      <th>4</th>\n",
       "      <td>Brooklyn</td>\n",
       "      <td>Private room</td>\n",
       "      <td>71</td>\n",
       "      <td>1</td>\n",
       "    </tr>\n",
       "    <tr>\n",
       "      <th>...</th>\n",
       "      <td>...</td>\n",
       "      <td>...</td>\n",
       "      <td>...</td>\n",
       "      <td>...</td>\n",
       "    </tr>\n",
       "    <tr>\n",
       "      <th>70837</th>\n",
       "      <td>Queens</td>\n",
       "      <td>Private room</td>\n",
       "      <td>103</td>\n",
       "      <td>1</td>\n",
       "    </tr>\n",
       "    <tr>\n",
       "      <th>70838</th>\n",
       "      <td>Queens</td>\n",
       "      <td>Private room</td>\n",
       "      <td>982</td>\n",
       "      <td>1</td>\n",
       "    </tr>\n",
       "    <tr>\n",
       "      <th>70839</th>\n",
       "      <td>Queens</td>\n",
       "      <td>Private room</td>\n",
       "      <td>946</td>\n",
       "      <td>1</td>\n",
       "    </tr>\n",
       "    <tr>\n",
       "      <th>70840</th>\n",
       "      <td>Manhattan</td>\n",
       "      <td>Entire home/apt</td>\n",
       "      <td>1043</td>\n",
       "      <td>1</td>\n",
       "    </tr>\n",
       "    <tr>\n",
       "      <th>70841</th>\n",
       "      <td>Brooklyn</td>\n",
       "      <td>Entire home/apt</td>\n",
       "      <td>809</td>\n",
       "      <td>1</td>\n",
       "    </tr>\n",
       "  </tbody>\n",
       "</table>\n",
       "<p>70842 rows × 4 columns</p>\n",
       "</div>"
      ],
      "text/plain": [
       "      neighborhood group        room type  price  number rooms\n",
       "0              Manhattan  Entire home/apt    142             2\n",
       "1              Manhattan     Private room    620             1\n",
       "2               Brooklyn  Entire home/apt    368             2\n",
       "3              Manhattan  Entire home/apt    204             1\n",
       "4               Brooklyn     Private room     71             1\n",
       "...                  ...              ...    ...           ...\n",
       "70837             Queens     Private room    103             1\n",
       "70838             Queens     Private room    982             1\n",
       "70839             Queens     Private room    946             1\n",
       "70840          Manhattan  Entire home/apt   1043             1\n",
       "70841           Brooklyn  Entire home/apt    809             1\n",
       "\n",
       "[70842 rows x 4 columns]"
      ]
     },
     "execution_count": 3,
     "metadata": {},
     "output_type": "execute_result"
    }
   ],
   "source": [
    "#Take the data we want\n",
    "data = AirBnB_cleaned.iloc[:,[2,10,12,18]]\n",
    "data"
   ]
  },
  {
   "cell_type": "code",
   "execution_count": 4,
   "id": "6b494377",
   "metadata": {},
   "outputs": [
    {
     "data": {
      "text/html": [
       "<div>\n",
       "<style scoped>\n",
       "    .dataframe tbody tr th:only-of-type {\n",
       "        vertical-align: middle;\n",
       "    }\n",
       "\n",
       "    .dataframe tbody tr th {\n",
       "        vertical-align: top;\n",
       "    }\n",
       "\n",
       "    .dataframe thead th {\n",
       "        text-align: right;\n",
       "    }\n",
       "</style>\n",
       "<table border=\"1\" class=\"dataframe\">\n",
       "  <thead>\n",
       "    <tr style=\"text-align: right;\">\n",
       "      <th></th>\n",
       "      <th>price</th>\n",
       "      <th>number rooms</th>\n",
       "      <th>neighborhood group_Bronx</th>\n",
       "      <th>neighborhood group_Brooklyn</th>\n",
       "      <th>neighborhood group_Manhattan</th>\n",
       "      <th>neighborhood group_Queens</th>\n",
       "      <th>neighborhood group_Staten Island</th>\n",
       "      <th>room type_Entire home/apt</th>\n",
       "      <th>room type_Hotel room</th>\n",
       "      <th>room type_Private room</th>\n",
       "      <th>room type_Shared room</th>\n",
       "    </tr>\n",
       "  </thead>\n",
       "  <tbody>\n",
       "    <tr>\n",
       "      <th>0</th>\n",
       "      <td>142</td>\n",
       "      <td>2</td>\n",
       "      <td>0</td>\n",
       "      <td>0</td>\n",
       "      <td>1</td>\n",
       "      <td>0</td>\n",
       "      <td>0</td>\n",
       "      <td>1</td>\n",
       "      <td>0</td>\n",
       "      <td>0</td>\n",
       "      <td>0</td>\n",
       "    </tr>\n",
       "    <tr>\n",
       "      <th>1</th>\n",
       "      <td>620</td>\n",
       "      <td>1</td>\n",
       "      <td>0</td>\n",
       "      <td>0</td>\n",
       "      <td>1</td>\n",
       "      <td>0</td>\n",
       "      <td>0</td>\n",
       "      <td>0</td>\n",
       "      <td>0</td>\n",
       "      <td>1</td>\n",
       "      <td>0</td>\n",
       "    </tr>\n",
       "    <tr>\n",
       "      <th>2</th>\n",
       "      <td>368</td>\n",
       "      <td>2</td>\n",
       "      <td>0</td>\n",
       "      <td>1</td>\n",
       "      <td>0</td>\n",
       "      <td>0</td>\n",
       "      <td>0</td>\n",
       "      <td>1</td>\n",
       "      <td>0</td>\n",
       "      <td>0</td>\n",
       "      <td>0</td>\n",
       "    </tr>\n",
       "    <tr>\n",
       "      <th>3</th>\n",
       "      <td>204</td>\n",
       "      <td>1</td>\n",
       "      <td>0</td>\n",
       "      <td>0</td>\n",
       "      <td>1</td>\n",
       "      <td>0</td>\n",
       "      <td>0</td>\n",
       "      <td>1</td>\n",
       "      <td>0</td>\n",
       "      <td>0</td>\n",
       "      <td>0</td>\n",
       "    </tr>\n",
       "    <tr>\n",
       "      <th>4</th>\n",
       "      <td>71</td>\n",
       "      <td>1</td>\n",
       "      <td>0</td>\n",
       "      <td>1</td>\n",
       "      <td>0</td>\n",
       "      <td>0</td>\n",
       "      <td>0</td>\n",
       "      <td>0</td>\n",
       "      <td>0</td>\n",
       "      <td>1</td>\n",
       "      <td>0</td>\n",
       "    </tr>\n",
       "    <tr>\n",
       "      <th>...</th>\n",
       "      <td>...</td>\n",
       "      <td>...</td>\n",
       "      <td>...</td>\n",
       "      <td>...</td>\n",
       "      <td>...</td>\n",
       "      <td>...</td>\n",
       "      <td>...</td>\n",
       "      <td>...</td>\n",
       "      <td>...</td>\n",
       "      <td>...</td>\n",
       "      <td>...</td>\n",
       "    </tr>\n",
       "    <tr>\n",
       "      <th>70837</th>\n",
       "      <td>103</td>\n",
       "      <td>1</td>\n",
       "      <td>0</td>\n",
       "      <td>0</td>\n",
       "      <td>0</td>\n",
       "      <td>1</td>\n",
       "      <td>0</td>\n",
       "      <td>0</td>\n",
       "      <td>0</td>\n",
       "      <td>1</td>\n",
       "      <td>0</td>\n",
       "    </tr>\n",
       "    <tr>\n",
       "      <th>70838</th>\n",
       "      <td>982</td>\n",
       "      <td>1</td>\n",
       "      <td>0</td>\n",
       "      <td>0</td>\n",
       "      <td>0</td>\n",
       "      <td>1</td>\n",
       "      <td>0</td>\n",
       "      <td>0</td>\n",
       "      <td>0</td>\n",
       "      <td>1</td>\n",
       "      <td>0</td>\n",
       "    </tr>\n",
       "    <tr>\n",
       "      <th>70839</th>\n",
       "      <td>946</td>\n",
       "      <td>1</td>\n",
       "      <td>0</td>\n",
       "      <td>0</td>\n",
       "      <td>0</td>\n",
       "      <td>1</td>\n",
       "      <td>0</td>\n",
       "      <td>0</td>\n",
       "      <td>0</td>\n",
       "      <td>1</td>\n",
       "      <td>0</td>\n",
       "    </tr>\n",
       "    <tr>\n",
       "      <th>70840</th>\n",
       "      <td>1043</td>\n",
       "      <td>1</td>\n",
       "      <td>0</td>\n",
       "      <td>0</td>\n",
       "      <td>1</td>\n",
       "      <td>0</td>\n",
       "      <td>0</td>\n",
       "      <td>1</td>\n",
       "      <td>0</td>\n",
       "      <td>0</td>\n",
       "      <td>0</td>\n",
       "    </tr>\n",
       "    <tr>\n",
       "      <th>70841</th>\n",
       "      <td>809</td>\n",
       "      <td>1</td>\n",
       "      <td>0</td>\n",
       "      <td>1</td>\n",
       "      <td>0</td>\n",
       "      <td>0</td>\n",
       "      <td>0</td>\n",
       "      <td>1</td>\n",
       "      <td>0</td>\n",
       "      <td>0</td>\n",
       "      <td>0</td>\n",
       "    </tr>\n",
       "  </tbody>\n",
       "</table>\n",
       "<p>70842 rows × 11 columns</p>\n",
       "</div>"
      ],
      "text/plain": [
       "       price  number rooms  neighborhood group_Bronx  \\\n",
       "0        142             2                         0   \n",
       "1        620             1                         0   \n",
       "2        368             2                         0   \n",
       "3        204             1                         0   \n",
       "4         71             1                         0   \n",
       "...      ...           ...                       ...   \n",
       "70837    103             1                         0   \n",
       "70838    982             1                         0   \n",
       "70839    946             1                         0   \n",
       "70840   1043             1                         0   \n",
       "70841    809             1                         0   \n",
       "\n",
       "       neighborhood group_Brooklyn  neighborhood group_Manhattan  \\\n",
       "0                                0                             1   \n",
       "1                                0                             1   \n",
       "2                                1                             0   \n",
       "3                                0                             1   \n",
       "4                                1                             0   \n",
       "...                            ...                           ...   \n",
       "70837                            0                             0   \n",
       "70838                            0                             0   \n",
       "70839                            0                             0   \n",
       "70840                            0                             1   \n",
       "70841                            1                             0   \n",
       "\n",
       "       neighborhood group_Queens  neighborhood group_Staten Island  \\\n",
       "0                              0                                 0   \n",
       "1                              0                                 0   \n",
       "2                              0                                 0   \n",
       "3                              0                                 0   \n",
       "4                              0                                 0   \n",
       "...                          ...                               ...   \n",
       "70837                          1                                 0   \n",
       "70838                          1                                 0   \n",
       "70839                          1                                 0   \n",
       "70840                          0                                 0   \n",
       "70841                          0                                 0   \n",
       "\n",
       "       room type_Entire home/apt  room type_Hotel room  \\\n",
       "0                              1                     0   \n",
       "1                              0                     0   \n",
       "2                              1                     0   \n",
       "3                              1                     0   \n",
       "4                              0                     0   \n",
       "...                          ...                   ...   \n",
       "70837                          0                     0   \n",
       "70838                          0                     0   \n",
       "70839                          0                     0   \n",
       "70840                          1                     0   \n",
       "70841                          1                     0   \n",
       "\n",
       "       room type_Private room  room type_Shared room  \n",
       "0                           0                      0  \n",
       "1                           1                      0  \n",
       "2                           0                      0  \n",
       "3                           0                      0  \n",
       "4                           1                      0  \n",
       "...                       ...                    ...  \n",
       "70837                       1                      0  \n",
       "70838                       1                      0  \n",
       "70839                       1                      0  \n",
       "70840                       0                      0  \n",
       "70841                       0                      0  \n",
       "\n",
       "[70842 rows x 11 columns]"
      ]
     },
     "execution_count": 4,
     "metadata": {},
     "output_type": "execute_result"
    }
   ],
   "source": [
    "#one hot encoder\n",
    "data_dum = pd.get_dummies(data)\n",
    "pd.DataFrame(data_dum)\n",
    "data_dum"
   ]
  },
  {
   "cell_type": "code",
   "execution_count": 5,
   "id": "a8600ec9",
   "metadata": {},
   "outputs": [
    {
     "name": "stdout",
     "output_type": "stream",
     "text": [
      "(70842, 11)\n"
     ]
    }
   ],
   "source": [
    "print(data_dum.shape)"
   ]
  },
  {
   "cell_type": "code",
   "execution_count": 6,
   "id": "119dd20f",
   "metadata": {
    "id": "ly3THPi7PdLJ"
   },
   "outputs": [
    {
     "name": "stdout",
     "output_type": "stream",
     "text": [
      "(67299, 10)\n",
      "(67299,)\n"
     ]
    }
   ],
   "source": [
    "# Your answer goes here\n",
    "# data Splitting\n",
    "from sklearn.model_selection import train_test_split\n",
    "from sklearn.metrics import mean_absolute_error\n",
    "\n",
    "X = data_dum.iloc[:,1:11] #The number of rooms, the neighborhood group, and the room type\n",
    "y = data_dum.iloc[:,0] #Price\n",
    "\n",
    "X_train, X_test, y_train, y_test = train_test_split(X, y, test_size = 0.05, random_state = 1, stratify=y)\n",
    "\n",
    "#print(y_train.value_counts(normalize=True))\n",
    "#print(y_test.value_counts(normalize=True))\n",
    "\n",
    "\n",
    "#mean_absolute_error(y_true= , y_pred= )\n",
    "\n",
    "print(X_train.shape)\n",
    "print(y_train.shape)\n",
    "#print(y)\n"
   ]
  },
  {
   "cell_type": "code",
   "execution_count": 9,
   "id": "d8342d3f",
   "metadata": {},
   "outputs": [
    {
     "name": "stdout",
     "output_type": "stream",
     "text": [
      "Accuracy: 0.002822\n",
      "f1-score: 0.000361\n",
      "[167 815 815 ... 672 379 379]\n",
      "[1048  362  685 ...  742  170  160]\n"
     ]
    }
   ],
   "source": [
    "# Training\n",
    "from sklearn import tree\n",
    "from sklearn.metrics import accuracy_score, f1_score\n",
    "from sklearn.metrics import confusion_matrix\n",
    "\n",
    "model = tree.DecisionTreeClassifier(criterion=\"entropy\")  \n",
    "model.fit(X_train, y_train)\n",
    "\n",
    "y_pred_decision = model.predict(X_test)\n",
    "\n",
    "print('Accuracy: %f' % accuracy_score(y_test, y_pred_decision))\n",
    "print('f1-score: %f' % f1_score(y_test, y_pred_decision, average='weighted'))\n",
    "\n",
    "print(y_pred_decision)\n",
    "print(y_test.values)"
   ]
  },
  {
   "cell_type": "markdown",
   "id": "ddc1e5ce",
   "metadata": {
    "id": "ddc1e5ce"
   },
   "source": [
    "## Decision Tree (15 points)"
   ]
  },
  {
   "cell_type": "markdown",
   "id": "8y3FUe5paWrY",
   "metadata": {
    "id": "8y3FUe5paWrY"
   },
   "source": [
    "Using a decision tree, you try to price your apartment according to similar apartments. "
   ]
  },
  {
   "cell_type": "markdown",
   "id": "0a06ecc8",
   "metadata": {
    "id": "0a06ecc8"
   },
   "source": [
    "In the following, we want to know the price ranges for renting AirBnBs. To use decision trees, you need to discretize prices. We use the following price bins:\n",
    "\n",
    "\n",
    "- [50, 200]\n",
    "- (200, 400]\n",
    "- (400, 600]\n",
    "- (600, 800]\n",
    "- (800, 1000]\n",
    "- (1000, 1200]\n",
    "\n",
    "We add the attribute \"Price_Bins\" using the discretization mentioned above for each apartment. For example, if an apartment costs 404, it is put into the bin (400, 600]. **(2 points)**"
   ]
  },
  {
   "cell_type": "code",
   "execution_count": 10,
   "id": "302dd03d",
   "metadata": {},
   "outputs": [
    {
     "data": {
      "text/plain": [
       "0         (49.999, 200.0]\n",
       "1          (600.0, 800.0]\n",
       "2          (200.0, 400.0]\n",
       "3          (200.0, 400.0]\n",
       "4         (49.999, 200.0]\n",
       "               ...       \n",
       "70837     (49.999, 200.0]\n",
       "70838     (800.0, 1000.0]\n",
       "70839     (800.0, 1000.0]\n",
       "70840    (1000.0, 1200.0]\n",
       "70841     (800.0, 1000.0]\n",
       "Name: price, Length: 70842, dtype: category\n",
       "Categories (6, interval[float64, right]): [(49.999, 200.0] < (200.0, 400.0] < (400.0, 600.0] < (600.0, 800.0] < (800.0, 1000.0] < (1000.0, 1200.0]]"
      ]
     },
     "execution_count": 10,
     "metadata": {},
     "output_type": "execute_result"
    }
   ],
   "source": [
    "# Your answer goes here\n",
    "Price_Bins = pd.cut(AirBnB_cleaned['price'], bins=[50, 200, 400, 600, 800, 1000, 1200], include_lowest=True)\n",
    "Price_Bins"
   ]
  },
  {
   "cell_type": "code",
   "execution_count": 11,
   "id": "15525ede",
   "metadata": {},
   "outputs": [
    {
     "data": {
      "text/html": [
       "<div>\n",
       "<style scoped>\n",
       "    .dataframe tbody tr th:only-of-type {\n",
       "        vertical-align: middle;\n",
       "    }\n",
       "\n",
       "    .dataframe tbody tr th {\n",
       "        vertical-align: top;\n",
       "    }\n",
       "\n",
       "    .dataframe thead th {\n",
       "        text-align: right;\n",
       "    }\n",
       "</style>\n",
       "<table border=\"1\" class=\"dataframe\">\n",
       "  <thead>\n",
       "    <tr style=\"text-align: right;\">\n",
       "      <th></th>\n",
       "      <th>id</th>\n",
       "      <th>host id</th>\n",
       "      <th>neighborhood group</th>\n",
       "      <th>neighborhood</th>\n",
       "      <th>lat</th>\n",
       "      <th>long</th>\n",
       "      <th>country</th>\n",
       "      <th>country code</th>\n",
       "      <th>instant bookable</th>\n",
       "      <th>cancellation policy</th>\n",
       "      <th>room type</th>\n",
       "      <th>construction year</th>\n",
       "      <th>price</th>\n",
       "      <th>service fee</th>\n",
       "      <th>minimum nights</th>\n",
       "      <th>number of reviews</th>\n",
       "      <th>review rate number</th>\n",
       "      <th>calculated host listings count</th>\n",
       "      <th>number rooms</th>\n",
       "      <th>Price_Bins</th>\n",
       "    </tr>\n",
       "  </thead>\n",
       "  <tbody>\n",
       "    <tr>\n",
       "      <th>0</th>\n",
       "      <td>1002102</td>\n",
       "      <td>52335172823</td>\n",
       "      <td>Manhattan</td>\n",
       "      <td>Midtown</td>\n",
       "      <td>40.75362</td>\n",
       "      <td>-73.98377</td>\n",
       "      <td>United States</td>\n",
       "      <td>US</td>\n",
       "      <td>0</td>\n",
       "      <td>moderate</td>\n",
       "      <td>Entire home/apt</td>\n",
       "      <td>2007</td>\n",
       "      <td>142</td>\n",
       "      <td>28</td>\n",
       "      <td>7</td>\n",
       "      <td>45</td>\n",
       "      <td>4</td>\n",
       "      <td>2</td>\n",
       "      <td>2</td>\n",
       "      <td>(49.999, 200.0]</td>\n",
       "    </tr>\n",
       "    <tr>\n",
       "      <th>1</th>\n",
       "      <td>1002403</td>\n",
       "      <td>78829239556</td>\n",
       "      <td>Manhattan</td>\n",
       "      <td>Harlem</td>\n",
       "      <td>40.80902</td>\n",
       "      <td>-73.94190</td>\n",
       "      <td>United States</td>\n",
       "      <td>US</td>\n",
       "      <td>0</td>\n",
       "      <td>flexible</td>\n",
       "      <td>Private room</td>\n",
       "      <td>2005</td>\n",
       "      <td>620</td>\n",
       "      <td>124</td>\n",
       "      <td>3</td>\n",
       "      <td>0</td>\n",
       "      <td>5</td>\n",
       "      <td>1</td>\n",
       "      <td>1</td>\n",
       "      <td>(600.0, 800.0]</td>\n",
       "    </tr>\n",
       "    <tr>\n",
       "      <th>2</th>\n",
       "      <td>1002755</td>\n",
       "      <td>85098326012</td>\n",
       "      <td>Brooklyn</td>\n",
       "      <td>Clinton Hill</td>\n",
       "      <td>40.68514</td>\n",
       "      <td>-73.95976</td>\n",
       "      <td>United States</td>\n",
       "      <td>US</td>\n",
       "      <td>0</td>\n",
       "      <td>moderate</td>\n",
       "      <td>Entire home/apt</td>\n",
       "      <td>2005</td>\n",
       "      <td>368</td>\n",
       "      <td>74</td>\n",
       "      <td>7</td>\n",
       "      <td>270</td>\n",
       "      <td>4</td>\n",
       "      <td>1</td>\n",
       "      <td>2</td>\n",
       "      <td>(200.0, 400.0]</td>\n",
       "    </tr>\n",
       "    <tr>\n",
       "      <th>3</th>\n",
       "      <td>1003689</td>\n",
       "      <td>92037596077</td>\n",
       "      <td>Manhattan</td>\n",
       "      <td>East Harlem</td>\n",
       "      <td>40.79851</td>\n",
       "      <td>-73.94399</td>\n",
       "      <td>United States</td>\n",
       "      <td>US</td>\n",
       "      <td>0</td>\n",
       "      <td>moderate</td>\n",
       "      <td>Entire home/apt</td>\n",
       "      <td>2009</td>\n",
       "      <td>204</td>\n",
       "      <td>41</td>\n",
       "      <td>7</td>\n",
       "      <td>9</td>\n",
       "      <td>3</td>\n",
       "      <td>1</td>\n",
       "      <td>1</td>\n",
       "      <td>(200.0, 400.0]</td>\n",
       "    </tr>\n",
       "    <tr>\n",
       "      <th>4</th>\n",
       "      <td>1004650</td>\n",
       "      <td>61300605564</td>\n",
       "      <td>Brooklyn</td>\n",
       "      <td>Bedford-Stuyvesant</td>\n",
       "      <td>40.68688</td>\n",
       "      <td>-73.95596</td>\n",
       "      <td>United States</td>\n",
       "      <td>US</td>\n",
       "      <td>0</td>\n",
       "      <td>moderate</td>\n",
       "      <td>Private room</td>\n",
       "      <td>2015</td>\n",
       "      <td>71</td>\n",
       "      <td>14</td>\n",
       "      <td>7</td>\n",
       "      <td>49</td>\n",
       "      <td>5</td>\n",
       "      <td>1</td>\n",
       "      <td>1</td>\n",
       "      <td>(49.999, 200.0]</td>\n",
       "    </tr>\n",
       "    <tr>\n",
       "      <th>...</th>\n",
       "      <td>...</td>\n",
       "      <td>...</td>\n",
       "      <td>...</td>\n",
       "      <td>...</td>\n",
       "      <td>...</td>\n",
       "      <td>...</td>\n",
       "      <td>...</td>\n",
       "      <td>...</td>\n",
       "      <td>...</td>\n",
       "      <td>...</td>\n",
       "      <td>...</td>\n",
       "      <td>...</td>\n",
       "      <td>...</td>\n",
       "      <td>...</td>\n",
       "      <td>...</td>\n",
       "      <td>...</td>\n",
       "      <td>...</td>\n",
       "      <td>...</td>\n",
       "      <td>...</td>\n",
       "      <td>...</td>\n",
       "    </tr>\n",
       "    <tr>\n",
       "      <th>70837</th>\n",
       "      <td>57353610</td>\n",
       "      <td>69037598918</td>\n",
       "      <td>Queens</td>\n",
       "      <td>Bayside</td>\n",
       "      <td>40.75047</td>\n",
       "      <td>-73.75349</td>\n",
       "      <td>United States</td>\n",
       "      <td>US</td>\n",
       "      <td>0</td>\n",
       "      <td>moderate</td>\n",
       "      <td>Private room</td>\n",
       "      <td>2007</td>\n",
       "      <td>103</td>\n",
       "      <td>21</td>\n",
       "      <td>7</td>\n",
       "      <td>40</td>\n",
       "      <td>1</td>\n",
       "      <td>5</td>\n",
       "      <td>1</td>\n",
       "      <td>(49.999, 200.0]</td>\n",
       "    </tr>\n",
       "    <tr>\n",
       "      <th>70838</th>\n",
       "      <td>57358028</td>\n",
       "      <td>56457739998</td>\n",
       "      <td>Queens</td>\n",
       "      <td>East Elmhurst</td>\n",
       "      <td>40.76245</td>\n",
       "      <td>-73.87938</td>\n",
       "      <td>United States</td>\n",
       "      <td>US</td>\n",
       "      <td>0</td>\n",
       "      <td>strict</td>\n",
       "      <td>Private room</td>\n",
       "      <td>2022</td>\n",
       "      <td>982</td>\n",
       "      <td>196</td>\n",
       "      <td>1</td>\n",
       "      <td>239</td>\n",
       "      <td>2</td>\n",
       "      <td>2</td>\n",
       "      <td>1</td>\n",
       "      <td>(800.0, 1000.0]</td>\n",
       "    </tr>\n",
       "    <tr>\n",
       "      <th>70839</th>\n",
       "      <td>57358580</td>\n",
       "      <td>60176837202</td>\n",
       "      <td>Queens</td>\n",
       "      <td>Edgemere</td>\n",
       "      <td>40.59380</td>\n",
       "      <td>-73.77373</td>\n",
       "      <td>United States</td>\n",
       "      <td>US</td>\n",
       "      <td>0</td>\n",
       "      <td>moderate</td>\n",
       "      <td>Private room</td>\n",
       "      <td>2020</td>\n",
       "      <td>946</td>\n",
       "      <td>189</td>\n",
       "      <td>1</td>\n",
       "      <td>76</td>\n",
       "      <td>1</td>\n",
       "      <td>1</td>\n",
       "      <td>1</td>\n",
       "      <td>(800.0, 1000.0]</td>\n",
       "    </tr>\n",
       "    <tr>\n",
       "      <th>70840</th>\n",
       "      <td>57359685</td>\n",
       "      <td>95625271612</td>\n",
       "      <td>Manhattan</td>\n",
       "      <td>SoHo</td>\n",
       "      <td>40.72318</td>\n",
       "      <td>-74.00223</td>\n",
       "      <td>United States</td>\n",
       "      <td>US</td>\n",
       "      <td>0</td>\n",
       "      <td>flexible</td>\n",
       "      <td>Entire home/apt</td>\n",
       "      <td>2020</td>\n",
       "      <td>1043</td>\n",
       "      <td>209</td>\n",
       "      <td>2</td>\n",
       "      <td>21</td>\n",
       "      <td>4</td>\n",
       "      <td>2</td>\n",
       "      <td>1</td>\n",
       "      <td>(1000.0, 1200.0]</td>\n",
       "    </tr>\n",
       "    <tr>\n",
       "      <th>70841</th>\n",
       "      <td>57360237</td>\n",
       "      <td>83006936257</td>\n",
       "      <td>Brooklyn</td>\n",
       "      <td>Bedford-Stuyvesant</td>\n",
       "      <td>40.69095</td>\n",
       "      <td>-73.93444</td>\n",
       "      <td>United States</td>\n",
       "      <td>US</td>\n",
       "      <td>0</td>\n",
       "      <td>flexible</td>\n",
       "      <td>Entire home/apt</td>\n",
       "      <td>2010</td>\n",
       "      <td>809</td>\n",
       "      <td>162</td>\n",
       "      <td>7</td>\n",
       "      <td>4</td>\n",
       "      <td>1</td>\n",
       "      <td>1</td>\n",
       "      <td>1</td>\n",
       "      <td>(800.0, 1000.0]</td>\n",
       "    </tr>\n",
       "  </tbody>\n",
       "</table>\n",
       "<p>70842 rows × 20 columns</p>\n",
       "</div>"
      ],
      "text/plain": [
       "             id      host id neighborhood group        neighborhood       lat  \\\n",
       "0       1002102  52335172823          Manhattan             Midtown  40.75362   \n",
       "1       1002403  78829239556          Manhattan              Harlem  40.80902   \n",
       "2       1002755  85098326012           Brooklyn        Clinton Hill  40.68514   \n",
       "3       1003689  92037596077          Manhattan         East Harlem  40.79851   \n",
       "4       1004650  61300605564           Brooklyn  Bedford-Stuyvesant  40.68688   \n",
       "...         ...          ...                ...                 ...       ...   \n",
       "70837  57353610  69037598918             Queens             Bayside  40.75047   \n",
       "70838  57358028  56457739998             Queens       East Elmhurst  40.76245   \n",
       "70839  57358580  60176837202             Queens            Edgemere  40.59380   \n",
       "70840  57359685  95625271612          Manhattan                SoHo  40.72318   \n",
       "70841  57360237  83006936257           Brooklyn  Bedford-Stuyvesant  40.69095   \n",
       "\n",
       "           long        country country code  instant bookable  \\\n",
       "0     -73.98377  United States           US                 0   \n",
       "1     -73.94190  United States           US                 0   \n",
       "2     -73.95976  United States           US                 0   \n",
       "3     -73.94399  United States           US                 0   \n",
       "4     -73.95596  United States           US                 0   \n",
       "...         ...            ...          ...               ...   \n",
       "70837 -73.75349  United States           US                 0   \n",
       "70838 -73.87938  United States           US                 0   \n",
       "70839 -73.77373  United States           US                 0   \n",
       "70840 -74.00223  United States           US                 0   \n",
       "70841 -73.93444  United States           US                 0   \n",
       "\n",
       "      cancellation policy        room type  construction year  price  \\\n",
       "0                moderate  Entire home/apt               2007    142   \n",
       "1                flexible     Private room               2005    620   \n",
       "2                moderate  Entire home/apt               2005    368   \n",
       "3                moderate  Entire home/apt               2009    204   \n",
       "4                moderate     Private room               2015     71   \n",
       "...                   ...              ...                ...    ...   \n",
       "70837            moderate     Private room               2007    103   \n",
       "70838              strict     Private room               2022    982   \n",
       "70839            moderate     Private room               2020    946   \n",
       "70840            flexible  Entire home/apt               2020   1043   \n",
       "70841            flexible  Entire home/apt               2010    809   \n",
       "\n",
       "       service fee  minimum nights  number of reviews  review rate number  \\\n",
       "0               28               7                 45                   4   \n",
       "1              124               3                  0                   5   \n",
       "2               74               7                270                   4   \n",
       "3               41               7                  9                   3   \n",
       "4               14               7                 49                   5   \n",
       "...            ...             ...                ...                 ...   \n",
       "70837           21               7                 40                   1   \n",
       "70838          196               1                239                   2   \n",
       "70839          189               1                 76                   1   \n",
       "70840          209               2                 21                   4   \n",
       "70841          162               7                  4                   1   \n",
       "\n",
       "       calculated host listings count  number rooms        Price_Bins  \n",
       "0                                   2             2   (49.999, 200.0]  \n",
       "1                                   1             1    (600.0, 800.0]  \n",
       "2                                   1             2    (200.0, 400.0]  \n",
       "3                                   1             1    (200.0, 400.0]  \n",
       "4                                   1             1   (49.999, 200.0]  \n",
       "...                               ...           ...               ...  \n",
       "70837                               5             1   (49.999, 200.0]  \n",
       "70838                               2             1   (800.0, 1000.0]  \n",
       "70839                               1             1   (800.0, 1000.0]  \n",
       "70840                               2             1  (1000.0, 1200.0]  \n",
       "70841                               1             1   (800.0, 1000.0]  \n",
       "\n",
       "[70842 rows x 20 columns]"
      ]
     },
     "execution_count": 11,
     "metadata": {},
     "output_type": "execute_result"
    }
   ],
   "source": [
    "AirBnB_cleaned.loc[:,'Price_Bins'] = pd.Series(Price_Bins, index=AirBnB_cleaned.index)\n",
    "AirBnB_cleaned"
   ]
  },
  {
   "cell_type": "markdown",
   "id": "9a15a3f0",
   "metadata": {
    "id": "9a15a3f0"
   },
   "source": [
    "Consider the extended dataset from the previous task. Use 'number rooms,' 'room type,' and 'neighborhood group' as descriptive features and \"Price_Bins\" as the target feature. Create a test and training set like before. **(0.5 point)**"
   ]
  },
  {
   "cell_type": "code",
   "execution_count": 12,
   "id": "3f6dd35a",
   "metadata": {},
   "outputs": [
    {
     "data": {
      "text/html": [
       "<div>\n",
       "<style scoped>\n",
       "    .dataframe tbody tr th:only-of-type {\n",
       "        vertical-align: middle;\n",
       "    }\n",
       "\n",
       "    .dataframe tbody tr th {\n",
       "        vertical-align: top;\n",
       "    }\n",
       "\n",
       "    .dataframe thead th {\n",
       "        text-align: right;\n",
       "    }\n",
       "</style>\n",
       "<table border=\"1\" class=\"dataframe\">\n",
       "  <thead>\n",
       "    <tr style=\"text-align: right;\">\n",
       "      <th></th>\n",
       "      <th>neighborhood group</th>\n",
       "      <th>room type</th>\n",
       "      <th>number rooms</th>\n",
       "      <th>Price_Bins</th>\n",
       "    </tr>\n",
       "  </thead>\n",
       "  <tbody>\n",
       "    <tr>\n",
       "      <th>0</th>\n",
       "      <td>Manhattan</td>\n",
       "      <td>Entire home/apt</td>\n",
       "      <td>2</td>\n",
       "      <td>(49.999, 200.0]</td>\n",
       "    </tr>\n",
       "    <tr>\n",
       "      <th>1</th>\n",
       "      <td>Manhattan</td>\n",
       "      <td>Private room</td>\n",
       "      <td>1</td>\n",
       "      <td>(600.0, 800.0]</td>\n",
       "    </tr>\n",
       "    <tr>\n",
       "      <th>2</th>\n",
       "      <td>Brooklyn</td>\n",
       "      <td>Entire home/apt</td>\n",
       "      <td>2</td>\n",
       "      <td>(200.0, 400.0]</td>\n",
       "    </tr>\n",
       "    <tr>\n",
       "      <th>3</th>\n",
       "      <td>Manhattan</td>\n",
       "      <td>Entire home/apt</td>\n",
       "      <td>1</td>\n",
       "      <td>(200.0, 400.0]</td>\n",
       "    </tr>\n",
       "    <tr>\n",
       "      <th>4</th>\n",
       "      <td>Brooklyn</td>\n",
       "      <td>Private room</td>\n",
       "      <td>1</td>\n",
       "      <td>(49.999, 200.0]</td>\n",
       "    </tr>\n",
       "    <tr>\n",
       "      <th>...</th>\n",
       "      <td>...</td>\n",
       "      <td>...</td>\n",
       "      <td>...</td>\n",
       "      <td>...</td>\n",
       "    </tr>\n",
       "    <tr>\n",
       "      <th>70837</th>\n",
       "      <td>Queens</td>\n",
       "      <td>Private room</td>\n",
       "      <td>1</td>\n",
       "      <td>(49.999, 200.0]</td>\n",
       "    </tr>\n",
       "    <tr>\n",
       "      <th>70838</th>\n",
       "      <td>Queens</td>\n",
       "      <td>Private room</td>\n",
       "      <td>1</td>\n",
       "      <td>(800.0, 1000.0]</td>\n",
       "    </tr>\n",
       "    <tr>\n",
       "      <th>70839</th>\n",
       "      <td>Queens</td>\n",
       "      <td>Private room</td>\n",
       "      <td>1</td>\n",
       "      <td>(800.0, 1000.0]</td>\n",
       "    </tr>\n",
       "    <tr>\n",
       "      <th>70840</th>\n",
       "      <td>Manhattan</td>\n",
       "      <td>Entire home/apt</td>\n",
       "      <td>1</td>\n",
       "      <td>(1000.0, 1200.0]</td>\n",
       "    </tr>\n",
       "    <tr>\n",
       "      <th>70841</th>\n",
       "      <td>Brooklyn</td>\n",
       "      <td>Entire home/apt</td>\n",
       "      <td>1</td>\n",
       "      <td>(800.0, 1000.0]</td>\n",
       "    </tr>\n",
       "  </tbody>\n",
       "</table>\n",
       "<p>70842 rows × 4 columns</p>\n",
       "</div>"
      ],
      "text/plain": [
       "      neighborhood group        room type  number rooms        Price_Bins\n",
       "0              Manhattan  Entire home/apt             2   (49.999, 200.0]\n",
       "1              Manhattan     Private room             1    (600.0, 800.0]\n",
       "2               Brooklyn  Entire home/apt             2    (200.0, 400.0]\n",
       "3              Manhattan  Entire home/apt             1    (200.0, 400.0]\n",
       "4               Brooklyn     Private room             1   (49.999, 200.0]\n",
       "...                  ...              ...           ...               ...\n",
       "70837             Queens     Private room             1   (49.999, 200.0]\n",
       "70838             Queens     Private room             1   (800.0, 1000.0]\n",
       "70839             Queens     Private room             1   (800.0, 1000.0]\n",
       "70840          Manhattan  Entire home/apt             1  (1000.0, 1200.0]\n",
       "70841           Brooklyn  Entire home/apt             1   (800.0, 1000.0]\n",
       "\n",
       "[70842 rows x 4 columns]"
      ]
     },
     "execution_count": 12,
     "metadata": {},
     "output_type": "execute_result"
    }
   ],
   "source": [
    "data = AirBnB_cleaned.iloc[:,[2,10,18,19]]\n",
    "data"
   ]
  },
  {
   "cell_type": "code",
   "execution_count": 13,
   "id": "aa08f0be",
   "metadata": {},
   "outputs": [
    {
     "data": {
      "text/html": [
       "<div>\n",
       "<style scoped>\n",
       "    .dataframe tbody tr th:only-of-type {\n",
       "        vertical-align: middle;\n",
       "    }\n",
       "\n",
       "    .dataframe tbody tr th {\n",
       "        vertical-align: top;\n",
       "    }\n",
       "\n",
       "    .dataframe thead th {\n",
       "        text-align: right;\n",
       "    }\n",
       "</style>\n",
       "<table border=\"1\" class=\"dataframe\">\n",
       "  <thead>\n",
       "    <tr style=\"text-align: right;\">\n",
       "      <th></th>\n",
       "      <th>number rooms</th>\n",
       "      <th>neighborhood group_Bronx</th>\n",
       "      <th>neighborhood group_Brooklyn</th>\n",
       "      <th>neighborhood group_Manhattan</th>\n",
       "      <th>neighborhood group_Queens</th>\n",
       "      <th>neighborhood group_Staten Island</th>\n",
       "      <th>room type_Entire home/apt</th>\n",
       "      <th>room type_Hotel room</th>\n",
       "      <th>room type_Private room</th>\n",
       "      <th>room type_Shared room</th>\n",
       "      <th>Price_Bins_(49.999, 200.0]</th>\n",
       "      <th>Price_Bins_(200.0, 400.0]</th>\n",
       "      <th>Price_Bins_(400.0, 600.0]</th>\n",
       "      <th>Price_Bins_(600.0, 800.0]</th>\n",
       "      <th>Price_Bins_(800.0, 1000.0]</th>\n",
       "      <th>Price_Bins_(1000.0, 1200.0]</th>\n",
       "    </tr>\n",
       "  </thead>\n",
       "  <tbody>\n",
       "    <tr>\n",
       "      <th>0</th>\n",
       "      <td>2</td>\n",
       "      <td>0</td>\n",
       "      <td>0</td>\n",
       "      <td>1</td>\n",
       "      <td>0</td>\n",
       "      <td>0</td>\n",
       "      <td>1</td>\n",
       "      <td>0</td>\n",
       "      <td>0</td>\n",
       "      <td>0</td>\n",
       "      <td>1</td>\n",
       "      <td>0</td>\n",
       "      <td>0</td>\n",
       "      <td>0</td>\n",
       "      <td>0</td>\n",
       "      <td>0</td>\n",
       "    </tr>\n",
       "    <tr>\n",
       "      <th>1</th>\n",
       "      <td>1</td>\n",
       "      <td>0</td>\n",
       "      <td>0</td>\n",
       "      <td>1</td>\n",
       "      <td>0</td>\n",
       "      <td>0</td>\n",
       "      <td>0</td>\n",
       "      <td>0</td>\n",
       "      <td>1</td>\n",
       "      <td>0</td>\n",
       "      <td>0</td>\n",
       "      <td>0</td>\n",
       "      <td>0</td>\n",
       "      <td>1</td>\n",
       "      <td>0</td>\n",
       "      <td>0</td>\n",
       "    </tr>\n",
       "    <tr>\n",
       "      <th>2</th>\n",
       "      <td>2</td>\n",
       "      <td>0</td>\n",
       "      <td>1</td>\n",
       "      <td>0</td>\n",
       "      <td>0</td>\n",
       "      <td>0</td>\n",
       "      <td>1</td>\n",
       "      <td>0</td>\n",
       "      <td>0</td>\n",
       "      <td>0</td>\n",
       "      <td>0</td>\n",
       "      <td>1</td>\n",
       "      <td>0</td>\n",
       "      <td>0</td>\n",
       "      <td>0</td>\n",
       "      <td>0</td>\n",
       "    </tr>\n",
       "    <tr>\n",
       "      <th>3</th>\n",
       "      <td>1</td>\n",
       "      <td>0</td>\n",
       "      <td>0</td>\n",
       "      <td>1</td>\n",
       "      <td>0</td>\n",
       "      <td>0</td>\n",
       "      <td>1</td>\n",
       "      <td>0</td>\n",
       "      <td>0</td>\n",
       "      <td>0</td>\n",
       "      <td>0</td>\n",
       "      <td>1</td>\n",
       "      <td>0</td>\n",
       "      <td>0</td>\n",
       "      <td>0</td>\n",
       "      <td>0</td>\n",
       "    </tr>\n",
       "    <tr>\n",
       "      <th>4</th>\n",
       "      <td>1</td>\n",
       "      <td>0</td>\n",
       "      <td>1</td>\n",
       "      <td>0</td>\n",
       "      <td>0</td>\n",
       "      <td>0</td>\n",
       "      <td>0</td>\n",
       "      <td>0</td>\n",
       "      <td>1</td>\n",
       "      <td>0</td>\n",
       "      <td>1</td>\n",
       "      <td>0</td>\n",
       "      <td>0</td>\n",
       "      <td>0</td>\n",
       "      <td>0</td>\n",
       "      <td>0</td>\n",
       "    </tr>\n",
       "    <tr>\n",
       "      <th>...</th>\n",
       "      <td>...</td>\n",
       "      <td>...</td>\n",
       "      <td>...</td>\n",
       "      <td>...</td>\n",
       "      <td>...</td>\n",
       "      <td>...</td>\n",
       "      <td>...</td>\n",
       "      <td>...</td>\n",
       "      <td>...</td>\n",
       "      <td>...</td>\n",
       "      <td>...</td>\n",
       "      <td>...</td>\n",
       "      <td>...</td>\n",
       "      <td>...</td>\n",
       "      <td>...</td>\n",
       "      <td>...</td>\n",
       "    </tr>\n",
       "    <tr>\n",
       "      <th>70837</th>\n",
       "      <td>1</td>\n",
       "      <td>0</td>\n",
       "      <td>0</td>\n",
       "      <td>0</td>\n",
       "      <td>1</td>\n",
       "      <td>0</td>\n",
       "      <td>0</td>\n",
       "      <td>0</td>\n",
       "      <td>1</td>\n",
       "      <td>0</td>\n",
       "      <td>1</td>\n",
       "      <td>0</td>\n",
       "      <td>0</td>\n",
       "      <td>0</td>\n",
       "      <td>0</td>\n",
       "      <td>0</td>\n",
       "    </tr>\n",
       "    <tr>\n",
       "      <th>70838</th>\n",
       "      <td>1</td>\n",
       "      <td>0</td>\n",
       "      <td>0</td>\n",
       "      <td>0</td>\n",
       "      <td>1</td>\n",
       "      <td>0</td>\n",
       "      <td>0</td>\n",
       "      <td>0</td>\n",
       "      <td>1</td>\n",
       "      <td>0</td>\n",
       "      <td>0</td>\n",
       "      <td>0</td>\n",
       "      <td>0</td>\n",
       "      <td>0</td>\n",
       "      <td>1</td>\n",
       "      <td>0</td>\n",
       "    </tr>\n",
       "    <tr>\n",
       "      <th>70839</th>\n",
       "      <td>1</td>\n",
       "      <td>0</td>\n",
       "      <td>0</td>\n",
       "      <td>0</td>\n",
       "      <td>1</td>\n",
       "      <td>0</td>\n",
       "      <td>0</td>\n",
       "      <td>0</td>\n",
       "      <td>1</td>\n",
       "      <td>0</td>\n",
       "      <td>0</td>\n",
       "      <td>0</td>\n",
       "      <td>0</td>\n",
       "      <td>0</td>\n",
       "      <td>1</td>\n",
       "      <td>0</td>\n",
       "    </tr>\n",
       "    <tr>\n",
       "      <th>70840</th>\n",
       "      <td>1</td>\n",
       "      <td>0</td>\n",
       "      <td>0</td>\n",
       "      <td>1</td>\n",
       "      <td>0</td>\n",
       "      <td>0</td>\n",
       "      <td>1</td>\n",
       "      <td>0</td>\n",
       "      <td>0</td>\n",
       "      <td>0</td>\n",
       "      <td>0</td>\n",
       "      <td>0</td>\n",
       "      <td>0</td>\n",
       "      <td>0</td>\n",
       "      <td>0</td>\n",
       "      <td>1</td>\n",
       "    </tr>\n",
       "    <tr>\n",
       "      <th>70841</th>\n",
       "      <td>1</td>\n",
       "      <td>0</td>\n",
       "      <td>1</td>\n",
       "      <td>0</td>\n",
       "      <td>0</td>\n",
       "      <td>0</td>\n",
       "      <td>1</td>\n",
       "      <td>0</td>\n",
       "      <td>0</td>\n",
       "      <td>0</td>\n",
       "      <td>0</td>\n",
       "      <td>0</td>\n",
       "      <td>0</td>\n",
       "      <td>0</td>\n",
       "      <td>1</td>\n",
       "      <td>0</td>\n",
       "    </tr>\n",
       "  </tbody>\n",
       "</table>\n",
       "<p>70842 rows × 16 columns</p>\n",
       "</div>"
      ],
      "text/plain": [
       "       number rooms  neighborhood group_Bronx  neighborhood group_Brooklyn  \\\n",
       "0                 2                         0                            0   \n",
       "1                 1                         0                            0   \n",
       "2                 2                         0                            1   \n",
       "3                 1                         0                            0   \n",
       "4                 1                         0                            1   \n",
       "...             ...                       ...                          ...   \n",
       "70837             1                         0                            0   \n",
       "70838             1                         0                            0   \n",
       "70839             1                         0                            0   \n",
       "70840             1                         0                            0   \n",
       "70841             1                         0                            1   \n",
       "\n",
       "       neighborhood group_Manhattan  neighborhood group_Queens  \\\n",
       "0                                 1                          0   \n",
       "1                                 1                          0   \n",
       "2                                 0                          0   \n",
       "3                                 1                          0   \n",
       "4                                 0                          0   \n",
       "...                             ...                        ...   \n",
       "70837                             0                          1   \n",
       "70838                             0                          1   \n",
       "70839                             0                          1   \n",
       "70840                             1                          0   \n",
       "70841                             0                          0   \n",
       "\n",
       "       neighborhood group_Staten Island  room type_Entire home/apt  \\\n",
       "0                                     0                          1   \n",
       "1                                     0                          0   \n",
       "2                                     0                          1   \n",
       "3                                     0                          1   \n",
       "4                                     0                          0   \n",
       "...                                 ...                        ...   \n",
       "70837                                 0                          0   \n",
       "70838                                 0                          0   \n",
       "70839                                 0                          0   \n",
       "70840                                 0                          1   \n",
       "70841                                 0                          1   \n",
       "\n",
       "       room type_Hotel room  room type_Private room  room type_Shared room  \\\n",
       "0                         0                       0                      0   \n",
       "1                         0                       1                      0   \n",
       "2                         0                       0                      0   \n",
       "3                         0                       0                      0   \n",
       "4                         0                       1                      0   \n",
       "...                     ...                     ...                    ...   \n",
       "70837                     0                       1                      0   \n",
       "70838                     0                       1                      0   \n",
       "70839                     0                       1                      0   \n",
       "70840                     0                       0                      0   \n",
       "70841                     0                       0                      0   \n",
       "\n",
       "       Price_Bins_(49.999, 200.0]  Price_Bins_(200.0, 400.0]  \\\n",
       "0                               1                          0   \n",
       "1                               0                          0   \n",
       "2                               0                          1   \n",
       "3                               0                          1   \n",
       "4                               1                          0   \n",
       "...                           ...                        ...   \n",
       "70837                           1                          0   \n",
       "70838                           0                          0   \n",
       "70839                           0                          0   \n",
       "70840                           0                          0   \n",
       "70841                           0                          0   \n",
       "\n",
       "       Price_Bins_(400.0, 600.0]  Price_Bins_(600.0, 800.0]  \\\n",
       "0                              0                          0   \n",
       "1                              0                          1   \n",
       "2                              0                          0   \n",
       "3                              0                          0   \n",
       "4                              0                          0   \n",
       "...                          ...                        ...   \n",
       "70837                          0                          0   \n",
       "70838                          0                          0   \n",
       "70839                          0                          0   \n",
       "70840                          0                          0   \n",
       "70841                          0                          0   \n",
       "\n",
       "       Price_Bins_(800.0, 1000.0]  Price_Bins_(1000.0, 1200.0]  \n",
       "0                               0                            0  \n",
       "1                               0                            0  \n",
       "2                               0                            0  \n",
       "3                               0                            0  \n",
       "4                               0                            0  \n",
       "...                           ...                          ...  \n",
       "70837                           0                            0  \n",
       "70838                           1                            0  \n",
       "70839                           1                            0  \n",
       "70840                           0                            1  \n",
       "70841                           1                            0  \n",
       "\n",
       "[70842 rows x 16 columns]"
      ]
     },
     "execution_count": 13,
     "metadata": {},
     "output_type": "execute_result"
    }
   ],
   "source": [
    "#one hot encoder\n",
    "data_dum = pd.get_dummies(data)\n",
    "#pd.DataFrame(data_dum)\n",
    "data_dum"
   ]
  },
  {
   "cell_type": "code",
   "execution_count": 14,
   "id": "e706df8f",
   "metadata": {},
   "outputs": [
    {
     "name": "stdout",
     "output_type": "stream",
     "text": [
      "(70842, 16)\n"
     ]
    }
   ],
   "source": [
    "print(data_dum.shape)"
   ]
  },
  {
   "cell_type": "code",
   "execution_count": 15,
   "id": "76877647",
   "metadata": {},
   "outputs": [
    {
     "name": "stdout",
     "output_type": "stream",
     "text": [
      "(67299, 10)\n",
      "(67299, 6)\n"
     ]
    }
   ],
   "source": [
    "# data Splitting\n",
    "from sklearn.model_selection import train_test_split\n",
    "from sklearn.metrics import mean_absolute_error\n",
    "\n",
    "X = data_dum.iloc[:,0:10] #The number of rooms, the neighborhood group, and the room type\n",
    "y = data_dum.iloc[:,10:17] #Price\n",
    "\n",
    "X_train, X_test, y_train, y_test = train_test_split(X, y, test_size = 0.05, random_state = 1)\n",
    "\n",
    "#print(y_train.value_counts(normalize=True))\n",
    "#print(y_test.value_counts(normalize=True))\n",
    "\n",
    "\n",
    "#mean_absolute_error(y_true= , y_pred= )\n",
    "\n",
    "print(X_train.shape)\n",
    "print(y_train.shape)\n",
    "#print(y_train)"
   ]
  },
  {
   "cell_type": "code",
   "execution_count": 16,
   "id": "7cc3b05a",
   "metadata": {},
   "outputs": [
    {
     "name": "stdout",
     "output_type": "stream",
     "text": [
      "Accuracy: 0.022580\n",
      "f1-score: 0.037023\n",
      "[[0 0 0 0 0 0]\n",
      " [0 0 0 0 0 0]\n",
      " [0 0 0 0 0 0]\n",
      " ...\n",
      " [0 0 0 0 0 1]\n",
      " [0 0 0 0 0 0]\n",
      " [0 0 0 0 0 0]]\n",
      "[[0 1 0 0 0 0]\n",
      " [0 1 0 0 0 0]\n",
      " [0 0 0 0 0 1]\n",
      " ...\n",
      " [0 0 0 0 0 1]\n",
      " [0 0 0 1 0 0]\n",
      " [0 0 0 0 0 1]]\n"
     ]
    }
   ],
   "source": [
    "# Training\n",
    "from sklearn import tree\n",
    "from sklearn.metrics import accuracy_score, f1_score\n",
    "from sklearn.metrics import confusion_matrix\n",
    "\n",
    "model = tree.DecisionTreeClassifier(criterion=\"entropy\")  \n",
    "clf = model.fit(X_train, y_train)\n",
    "#tree.plot_tree(clf)\n",
    "\n",
    "y_pred_decision = model.predict(X_test)\n",
    "\n",
    "print('Accuracy: %f' % accuracy_score(y_test, y_pred_decision))\n",
    "print('f1-score: %f' % f1_score(y_test, y_pred_decision, average='weighted'))\n",
    "\n",
    "print(y_pred_decision)\n",
    "print(y_test.values)\n"
   ]
  },
  {
   "cell_type": "code",
   "execution_count": null,
   "id": "abb41028",
   "metadata": {},
   "outputs": [],
   "source": []
  },
  {
   "cell_type": "markdown",
   "id": "WJuVU61pfuAU",
   "metadata": {
    "id": "WJuVU61pfuAU"
   },
   "source": [
    "Generate a decision tree in which the minimum number of samples for splitting is ten and use entropy. What is the system's entropy? **(5 points)**\n",
    "\n",
    "Note: For this task, you must use the p_decision_tree library."
   ]
  },
  {
   "cell_type": "code",
   "execution_count": 18,
   "id": "6a779d60",
   "metadata": {
    "id": "ly3THPi7PdLJ"
   },
   "outputs": [
    {
     "name": "stdout",
     "output_type": "stream",
     "text": [
      "Accuracy: 0.022580\n",
      "f1-score: 0.037023\n",
      "[[0 0 0 0 0 0]\n",
      " [0 0 0 0 0 0]\n",
      " [0 0 0 0 0 0]\n",
      " ...\n",
      " [0 0 0 0 0 1]\n",
      " [0 0 0 0 0 0]\n",
      " [0 0 0 0 0 0]]\n",
      "[[0 1 0 0 0 0]\n",
      " [0 1 0 0 0 0]\n",
      " [0 0 0 0 0 1]\n",
      " ...\n",
      " [0 0 0 0 0 1]\n",
      " [0 0 0 1 0 0]\n",
      " [0 0 0 0 0 1]]\n"
     ]
    }
   ],
   "source": [
    "# Your answer goes here\n",
    "model = tree.DecisionTreeClassifier(min_samples_split=10, criterion=\"entropy\")  \n",
    "model.fit(X_train, y_train)\n",
    "\n",
    "y_pred_decision = model.predict(X_test)\n",
    "\n",
    "print('Accuracy: %f' % accuracy_score(y_test, y_pred_decision))\n",
    "print('f1-score: %f' % f1_score(y_test, y_pred_decision, average='weighted'))\n",
    "\n",
    "print(y_pred_decision)\n",
    "print(y_test.values)\n"
   ]
  },
  {
   "cell_type": "code",
   "execution_count": 19,
   "id": "b2451604",
   "metadata": {},
   "outputs": [
    {
     "name": "stdout",
     "output_type": "stream",
     "text": [
      "Find Classification.dot (description) and Classification.pdf (visual tree) in the home page of your Jupyter.\n"
     ]
    }
   ],
   "source": [
    "import graphviz\n",
    "from subprocess import check_output\n",
    "\n",
    "column_names = list(X_train.columns.values)\n",
    "#del column_names[-1]\n",
    "dot_file = \"Classification.dot\"\n",
    "pdf_file = \"Classification.pdf\"\n",
    "with open(dot_file, \"w\") as f:\n",
    "    f = tree.export_graphviz(model, out_file=f, \n",
    "                                 feature_names= column_names, \n",
    "                                 class_names=[\"(49.999, 200.0]\", \"(200.0, 400.0]\", \"(400.0, 600.0]\", \"(600.0, 800.0]\", \"(800.0, 1000.0]\", \"(1000.0, 1200.0]\"], \n",
    "                                 filled=True, rounded=True)\n",
    "try:\n",
    "    check_output(\"dot -Tpdf \"+ dot_file + \" -o \" + pdf_file , shell=True)\n",
    "    print(\"Find Classification.dot (description) and Classification.pdf (visual tree) in the home page of your Jupyter.\")\n",
    "except:\n",
    "    print(\"Make sure that you have installed Graphviz, otherwise you can not see the visual tree. But you can find descriptions in a dot file\")\n"
   ]
  },
  {
   "cell_type": "code",
   "execution_count": 21,
   "id": "2390fc98",
   "metadata": {},
   "outputs": [
    {
     "name": "stdout",
     "output_type": "stream",
     "text": [
      "descriptive features:\n",
      "Index(['neighborhood group', 'room type', 'number rooms'], dtype='object')\n",
      "\n",
      "target feature:\n",
      "Price_Bins\n"
     ]
    },
    {
     "name": "stderr",
     "output_type": "stream",
     "text": [
      "/var/folders/j8/8ppl6wh96296jgnc1sqt5lnm0000gn/T/ipykernel_74032/880549322.py:11: SettingWithCopyWarning: \n",
      "A value is trying to be set on a copy of a slice from a DataFrame.\n",
      "Try using .loc[row_indexer,col_indexer] = value instead\n",
      "\n",
      "See the caveats in the documentation: https://pandas.pydata.org/pandas-docs/stable/user_guide/indexing.html#returning-a-view-versus-a-copy\n",
      "  data[column]= data[column].astype(str)\n"
     ]
    }
   ],
   "source": [
    "columns = data.columns\n",
    "\n",
    "#All columns except the last one are descriptive by default\n",
    "descriptive_features = columns[:-1]\n",
    "#print(descriptive_features)\n",
    "#The last column is considered as label\n",
    "label = columns[-1]\n",
    "\n",
    "#Converting all the columns to string\n",
    "for column in columns:\n",
    "    data[column]= data[column].astype(str)\n",
    "    #print(data[column])\n",
    "\n",
    "data_descriptive = data[descriptive_features].values\n",
    "#print(descriptive_features)\n",
    "data_label = data[label].values\n",
    "#print(data_label)\n",
    "\n",
    "print(\"descriptive features:\")\n",
    "print(descriptive_features)\n",
    "print(\"\\ntarget feature:\\n\" + label)"
   ]
  },
  {
   "cell_type": "code",
   "execution_count": 22,
   "id": "30900838",
   "metadata": {},
   "outputs": [
    {
     "name": "stdout",
     "output_type": "stream",
     "text": [
      "// Decision Tree\n",
      "digraph {\n",
      "\troot [label=\"number rooms\"]\n",
      "\t0.5740034454874701 [label=2]\n",
      "\troot -> 0.5740034454874701\n",
      "\t0.6343578183348615 [label=\"neighborhood group\"]\n",
      "\t0.5740034454874701 -> 0.6343578183348615\n",
      "\t0.9358510558600377 [label=1]\n",
      "\troot -> 0.9358510558600377\n",
      "\t0.9946652109655765 [label=\"room type\"]\n",
      "\t0.9358510558600377 -> 0.9946652109655765\n",
      "\t0.8478483281896888 [label=3]\n",
      "\troot -> 0.8478483281896888\n",
      "\t0.2661246097943831 [label=\"neighborhood group\"]\n",
      "\t0.8478483281896888 -> 0.2661246097943831\n",
      "\t0.4361945605324271 [label=4]\n",
      "\troot -> 0.4361945605324271\n",
      "\t0.19541866477279546 [label=\"neighborhood group\"]\n",
      "\t0.4361945605324271 -> 0.19541866477279546\n",
      "\t0.6343578183348615 [label=\"neighborhood group\"]\n",
      "\t0.7725724973698416 [label=Manhattan]\n",
      "\t0.6343578183348615 -> 0.7725724973698416\n",
      "\t0.9318878027706581 [label=\"room type\"]\n",
      "\t0.7725724973698416 -> 0.9318878027706581\n",
      "\t0.9863633099104002 [label=Brooklyn]\n",
      "\t0.6343578183348615 -> 0.9863633099104002\n",
      "\t0.11434507929585214 [label=\"room type\"]\n",
      "\t0.9863633099104002 -> 0.11434507929585214\n",
      "\t0.5594221948529845 [label=Queens]\n",
      "\t0.6343578183348615 -> 0.5594221948529845\n",
      "\t0.5365621078447178 [label=\"room type\"]\n",
      "\t0.5594221948529845 -> 0.5365621078447178\n",
      "\t0.41268688629130024 [label=Bronx]\n",
      "\t0.6343578183348615 -> 0.41268688629130024\n",
      "\t0.16859570215730146 [label=\"room type\"]\n",
      "\t0.41268688629130024 -> 0.16859570215730146\n",
      "\t0.6166899762938026 [label=\"Staten Island\"]\n",
      "\t0.6343578183348615 -> 0.6166899762938026\n",
      "\t0.1136766622104769 [label=\"room type\"]\n",
      "\t0.6166899762938026 -> 0.1136766622104769\n",
      "\t0.9946652109655765 [label=\"room type\"]\n",
      "\t0.9726057540590456 [label=\"Private room\"]\n",
      "\t0.9946652109655765 -> 0.9726057540590456\n",
      "\t0.9040452728880805 [label=\"neighborhood group\"]\n",
      "\t0.9726057540590456 -> 0.9040452728880805\n",
      "\t0.3822710507482685 [label=\"Entire home/apt\"]\n",
      "\t0.9946652109655765 -> 0.3822710507482685\n",
      "\t0.8200952563155709 [label=\"neighborhood group\"]\n",
      "\t0.3822710507482685 -> 0.8200952563155709\n",
      "\t0.884124544847353 [label=\"Shared room\"]\n",
      "\t0.9946652109655765 -> 0.884124544847353\n",
      "\t0.4109921214246992 [label=\"neighborhood group\"]\n",
      "\t0.884124544847353 -> 0.4109921214246992\n",
      "\t0.8958040178684568 [label=\"Hotel room\"]\n",
      "\t0.9946652109655765 -> 0.8958040178684568\n",
      "\t0.047956087416118565 [label=\"neighborhood group\"]\n",
      "\t0.8958040178684568 -> 0.047956087416118565\n",
      "\t0.2661246097943831 [label=\"neighborhood group\"]\n",
      "\t0.11454085681065229 [label=Brooklyn]\n",
      "\t0.2661246097943831 -> 0.11454085681065229\n",
      "\t0.09994258618462937 [label=\"room type\"]\n",
      "\t0.11454085681065229 -> 0.09994258618462937\n",
      "\t0.3443541268010174 [label=Manhattan]\n",
      "\t0.2661246097943831 -> 0.3443541268010174\n",
      "\t0.045753794206514264 [label=\"room type\"]\n",
      "\t0.3443541268010174 -> 0.045753794206514264\n",
      "\t0.11676329189153167 [label=Queens]\n",
      "\t0.2661246097943831 -> 0.11676329189153167\n",
      "\t0.31730574852926996 [label=\"room type\"]\n",
      "\t0.11676329189153167 -> 0.31730574852926996\n",
      "\t0.02282505596943707 [label=Bronx]\n",
      "\t0.2661246097943831 -> 0.02282505596943707\n",
      "\t0.6907564591997658 [label=\"room type\"]\n",
      "\t0.02282505596943707 -> 0.6907564591997658\n",
      "\t0.3929446537127326 [label=\"Staten Island\"]\n",
      "\t0.2661246097943831 -> 0.3929446537127326\n",
      "\t0.7052847894547644 [label=\"room type\"]\n",
      "\t0.3929446537127326 -> 0.7052847894547644\n",
      "\t0.19541866477279546 [label=\"neighborhood group\"]\n",
      "\t0.44669693345902106 [label=Manhattan]\n",
      "\t0.19541866477279546 -> 0.44669693345902106\n",
      "\t0.768114876246983 [label=\"room type\"]\n",
      "\t0.44669693345902106 -> 0.768114876246983\n",
      "\t0.779057915218933 [label=Brooklyn]\n",
      "\t0.19541866477279546 -> 0.779057915218933\n",
      "\t0.24100619916919785 [label=\"room type\"]\n",
      "\t0.779057915218933 -> 0.24100619916919785\n",
      "\t0.6329178329821125 [label=Queens]\n",
      "\t0.19541866477279546 -> 0.6329178329821125\n",
      "\t0.9631793142272586 [label=\"room type\"]\n",
      "\t0.6329178329821125 -> 0.9631793142272586\n",
      "\t0.6681097265242322 [label=Bronx]\n",
      "\t0.19541866477279546 -> 0.6681097265242322\n",
      "\t0.38973596721122006 [label=\"room type\"]\n",
      "\t0.6681097265242322 -> 0.38973596721122006\n",
      "\t0.3730674948615238 [label=\"Staten Island\"]\n",
      "\t0.19541866477279546 -> 0.3730674948615238\n",
      "\t0.5234353194540543 [label=\"room type\"]\n",
      "\t0.3730674948615238 -> 0.5234353194540543\n",
      "\t0.9318878027706581 [label=\"room type\"]\n",
      "\t0.33976788982977557 [label=\"Entire home/apt\"]\n",
      "\t0.9318878027706581 -> 0.33976788982977557\n",
      "\t0.7529755526099322 [label=\"(600.0, 800.0]\"]\n",
      "\t0.33976788982977557 -> 0.7529755526099322\n",
      "\t0.11434507929585214 [label=\"room type\"]\n",
      "\t0.07902262375988434 [label=\"Entire home/apt\"]\n",
      "\t0.11434507929585214 -> 0.07902262375988434\n",
      "\t0.5004789630958209 [label=\"(600.0, 800.0]\"]\n",
      "\t0.07902262375988434 -> 0.5004789630958209\n",
      "\t0.5365621078447178 [label=\"room type\"]\n",
      "\t0.625441794088239 [label=\"Entire home/apt\"]\n",
      "\t0.5365621078447178 -> 0.625441794088239\n",
      "\t0.39519783853777213 [label=\"(600.0, 800.0]\"]\n",
      "\t0.625441794088239 -> 0.39519783853777213\n",
      "\t0.16859570215730146 [label=\"room type\"]\n",
      "\t0.7731126202958846 [label=\"Entire home/apt\"]\n",
      "\t0.16859570215730146 -> 0.7731126202958846\n",
      "\t0.4559627708501228 [label=\"(600.0, 800.0]\"]\n",
      "\t0.7731126202958846 -> 0.4559627708501228\n",
      "\t0.1136766622104769 [label=\"room type\"]\n",
      "\t0.7793956036310584 [label=\"Entire home/apt\"]\n",
      "\t0.1136766622104769 -> 0.7793956036310584\n",
      "\t0.49046519225511565 [label=\"(600.0, 800.0]\"]\n",
      "\t0.7793956036310584 -> 0.49046519225511565\n",
      "\t0.9040452728880805 [label=\"neighborhood group\"]\n",
      "\t0.29241827495927186 [label=Manhattan]\n",
      "\t0.9040452728880805 -> 0.29241827495927186\n",
      "\t0.14746697462409342 [label=\"(400.0, 600.0]\"]\n",
      "\t0.29241827495927186 -> 0.14746697462409342\n",
      "\t0.05797219199150627 [label=Brooklyn]\n",
      "\t0.9040452728880805 -> 0.05797219199150627\n",
      "\t0.318215472132396 [label=\"(400.0, 600.0]\"]\n",
      "\t0.05797219199150627 -> 0.318215472132396\n",
      "\t0.810809002312321 [label=Bronx]\n",
      "\t0.9040452728880805 -> 0.810809002312321\n",
      "\t0.19911812996492595 [label=\"(400.0, 600.0]\"]\n",
      "\t0.810809002312321 -> 0.19911812996492595\n",
      "\t0.5122710475224084 [label=Queens]\n",
      "\t0.9040452728880805 -> 0.5122710475224084\n",
      "\t0.08502753277241204 [label=\"(200.0, 400.0]\"]\n",
      "\t0.5122710475224084 -> 0.08502753277241204\n",
      "\t0.48398282276643656 [label=\"Staten Island\"]\n",
      "\t0.9040452728880805 -> 0.48398282276643656\n",
      "\t0.030540554379352547 [label=\"(400.0, 600.0]\"]\n",
      "\t0.48398282276643656 -> 0.030540554379352547\n",
      "\t0.8200952563155709 [label=\"neighborhood group\"]\n",
      "\t0.8141989013349612 [label=Manhattan]\n",
      "\t0.8200952563155709 -> 0.8141989013349612\n",
      "\t0.2107467855942834 [label=\"(200.0, 400.0]\"]\n",
      "\t0.8141989013349612 -> 0.2107467855942834\n",
      "\t0.052585075372176604 [label=Brooklyn]\n",
      "\t0.8200952563155709 -> 0.052585075372176604\n",
      "\t0.9215674784474981 [label=\"(200.0, 400.0]\"]\n",
      "\t0.052585075372176604 -> 0.9215674784474981\n",
      "\t0.7567739296723975 [label=Queens]\n",
      "\t0.8200952563155709 -> 0.7567739296723975\n",
      "\t0.40909594307289177 [label=\"(200.0, 400.0]\"]\n",
      "\t0.7567739296723975 -> 0.40909594307289177\n",
      "\t0.6055872442269842 [label=\"Staten Island\"]\n",
      "\t0.8200952563155709 -> 0.6055872442269842\n",
      "\t0.8897500732094683 [label=\"(200.0, 400.0]\"]\n",
      "\t0.6055872442269842 -> 0.8897500732094683\n",
      "\t0.951391647210076 [label=Bronx]\n",
      "\t0.8200952563155709 -> 0.951391647210076\n",
      "\t0.8493804349591799 [label=\"(200.0, 400.0]\"]\n",
      "\t0.951391647210076 -> 0.8493804349591799\n",
      "\t0.4109921214246992 [label=\"neighborhood group\"]\n",
      "\t0.7475186352416013 [label=Manhattan]\n",
      "\t0.4109921214246992 -> 0.7475186352416013\n",
      "\t0.9568519141700341 [label=\"(1000.0, 1200.0]\"]\n",
      "\t0.7475186352416013 -> 0.9568519141700341\n",
      "\t0.1343485463229006 [label=Queens]\n",
      "\t0.4109921214246992 -> 0.1343485463229006\n",
      "\t0.5485071821908449 [label=\"(600.0, 800.0]\"]\n",
      "\t0.1343485463229006 -> 0.5485071821908449\n",
      "\t0.3262917638046071 [label=Brooklyn]\n",
      "\t0.4109921214246992 -> 0.3262917638046071\n",
      "\t0.9519133906956954 [label=\"(200.0, 400.0]\"]\n",
      "\t0.3262917638046071 -> 0.9519133906956954\n",
      "\t0.3294700041048526 [label=Bronx]\n",
      "\t0.4109921214246992 -> 0.3294700041048526\n",
      "\t0.3133244826996492 [label=\"(200.0, 400.0]\"]\n",
      "\t0.3294700041048526 -> 0.3133244826996492\n",
      "\t0.24598906203508986 [label=\"Staten Island\"]\n",
      "\t0.4109921214246992 -> 0.24598906203508986\n",
      "\t0.4993033660038322 [label=\"(600.0, 800.0]\"]\n",
      "\t0.24598906203508986 -> 0.4993033660038322\n",
      "\t0.047956087416118565 [label=\"neighborhood group\"]\n",
      "\t0.45862662036092416 [label=Manhattan]\n",
      "\t0.047956087416118565 -> 0.45862662036092416\n",
      "\t0.9904463396753587 [label=\"(400.0, 600.0]\"]\n",
      "\t0.45862662036092416 -> 0.9904463396753587\n",
      "\t0.5815932763546108 [label=Queens]\n",
      "\t0.047956087416118565 -> 0.5815932763546108\n",
      "\t0.07462000227063081 [label=\"(200.0, 400.0]\"]\n",
      "\t0.5815932763546108 -> 0.07462000227063081\n",
      "\t0.933267503439644 [label=Brooklyn]\n",
      "\t0.047956087416118565 -> 0.933267503439644\n",
      "\t0.5814626197001869 [label=\"(800.0, 1000.0]\"]\n",
      "\t0.933267503439644 -> 0.5814626197001869\n",
      "\t0.09994258618462937 [label=\"room type\"]\n",
      "\t0.9500636855161456 [label=\"Entire home/apt\"]\n",
      "\t0.09994258618462937 -> 0.9500636855161456\n",
      "\t0.8636204057206709 [label=\"(800.0, 1000.0]\"]\n",
      "\t0.9500636855161456 -> 0.8636204057206709\n",
      "\t0.045753794206514264 [label=\"room type\"]\n",
      "\t0.7407468648474042 [label=\"Entire home/apt\"]\n",
      "\t0.045753794206514264 -> 0.7407468648474042\n",
      "\t0.020869098577235068 [label=\"(1000.0, 1200.0]\"]\n",
      "\t0.7407468648474042 -> 0.020869098577235068\n",
      "\t0.31730574852926996 [label=\"room type\"]\n",
      "\t0.25677746382296174 [label=\"Entire home/apt\"]\n",
      "\t0.31730574852926996 -> 0.25677746382296174\n",
      "\t0.46545715105608687 [label=\"(800.0, 1000.0]\"]\n",
      "\t0.25677746382296174 -> 0.46545715105608687\n",
      "\t0.6907564591997658 [label=\"room type\"]\n",
      "\t0.12646055101163467 [label=\"Entire home/apt\"]\n",
      "\t0.6907564591997658 -> 0.12646055101163467\n",
      "\t0.11922162305052075 [label=\"(800.0, 1000.0]\"]\n",
      "\t0.12646055101163467 -> 0.11922162305052075\n",
      "\t0.7052847894547644 [label=\"room type\"]\n",
      "\t0.24988319339573062 [label=\"Entire home/apt\"]\n",
      "\t0.7052847894547644 -> 0.24988319339573062\n",
      "\t0.25132624404234216 [label=\"(800.0, 1000.0]\"]\n",
      "\t0.24988319339573062 -> 0.25132624404234216\n",
      "\t0.768114876246983 [label=\"room type\"]\n",
      "\t0.7152080910640717 [label=\"Entire home/apt\"]\n",
      "\t0.768114876246983 -> 0.7152080910640717\n",
      "\t0.47769320989016595 [label=\"(1000.0, 1200.0]\"]\n",
      "\t0.7152080910640717 -> 0.47769320989016595\n",
      "\t0.24100619916919785 [label=\"room type\"]\n",
      "\t0.6879610993175085 [label=\"Entire home/apt\"]\n",
      "\t0.24100619916919785 -> 0.6879610993175085\n",
      "\t0.7388076566460995 [label=\"(1000.0, 1200.0]\"]\n",
      "\t0.6879610993175085 -> 0.7388076566460995\n",
      "\t0.9631793142272586 [label=\"room type\"]\n",
      "\t0.7731382644829223 [label=\"Entire home/apt\"]\n",
      "\t0.9631793142272586 -> 0.7731382644829223\n",
      "\t0.6346852365467756 [label=\"(1000.0, 1200.0]\"]\n",
      "\t0.7731382644829223 -> 0.6346852365467756\n",
      "\t0.38973596721122006 [label=\"room type\"]\n",
      "\t0.8846107094619227 [label=\"Entire home/apt\"]\n",
      "\t0.38973596721122006 -> 0.8846107094619227\n",
      "\t0.24183262570403852 [label=\"(1000.0, 1200.0]\"]\n",
      "\t0.8846107094619227 -> 0.24183262570403852\n",
      "\t0.5234353194540543 [label=\"room type\"]\n",
      "\t0.7989668902802697 [label=\"Entire home/apt\"]\n",
      "\t0.5234353194540543 -> 0.7989668902802697\n",
      "\t0.7860567585359148 [label=\"(1000.0, 1200.0]\"]\n",
      "\t0.7989668902802697 -> 0.7860567585359148\n",
      "}\n",
      "\n",
      "System entropy:  2.5768286976479446\n",
      "System gini:  None\n"
     ]
    }
   ],
   "source": [
    "from p_decision_tree.DecisionTree import DecisionTree\n",
    "\n",
    "decisionTree = DecisionTree(data_descriptive.tolist(), descriptive_features.tolist(), data_label.tolist(), \"entropy\")\n",
    "\n",
    "#Calling DecisionTree constructor (the last parameter is criterion which can also be \"gini\")\n",
    "decisionTree = DecisionTree(data_descriptive.tolist(), descriptive_features.tolist(), data_label.tolist(), \"entropy\")\n",
    "\n",
    "#Here you can pass pruning features (gain_threshold and minimum_samples)\n",
    "decisionTree.id3(0,0)\n",
    "\n",
    "#Visualizing decision tree by Graphviz\n",
    "dot = decisionTree.print_visualTree( render=True )\n",
    "\n",
    "print(dot)\n",
    "\n",
    "print(\"System entropy: \", format(decisionTree.entropy))\n",
    "print(\"System gini: \", format(decisionTree.gini))\n"
   ]
  },
  {
   "cell_type": "markdown",
   "id": "ddc5527b",
   "metadata": {
    "id": "ddc5527b"
   },
   "source": [
    "What is the first feature the decision tree splits on? **(0.5 point)**"
   ]
  },
  {
   "cell_type": "markdown",
   "id": "dedb90c3",
   "metadata": {
    "id": "dedb90c3"
   },
   "source": [
    "_Answer:_ Room type\n",
    "\n"
   ]
  },
  {
   "cell_type": "markdown",
   "id": "604f3229",
   "metadata": {
    "id": "604f3229"
   },
   "source": [
    "Since it doesn't make sense to set a price range for renting a room, we need to fix a price. For simplicity, we use the means of the bins, i.e., 125, 300, 500, 700, 900, and 1100. For example, if a room were categorized in the bin (200, 400], it would have the price of 300.\n",
    "\n",
    "What prices are possible given your decision tree for:\n",
    "\n",
    "- Manhattan, 1-room, Private room: 500\n",
    "- Staten Island, 1-room, Shared room: 700 \n",
    "\n",
    "**(1 point)**"
   ]
  },
  {
   "cell_type": "code",
   "execution_count": null,
   "id": "0180359e",
   "metadata": {},
   "outputs": [],
   "source": [
    "print(X_test.shape)"
   ]
  },
  {
   "cell_type": "markdown",
   "id": "75fc9049",
   "metadata": {
    "id": "dedb90c3"
   },
   "source": [
    "_Answer:_\n",
    "\n"
   ]
  },
  {
   "cell_type": "markdown",
   "id": "gXRYGEa5QwCC",
   "metadata": {
    "id": "gXRYGEa5QwCC"
   },
   "source": [
    "What is the proposed price of the decision tree for our apartment? Store it in a variable for later usage. **(1 point)**"
   ]
  },
  {
   "cell_type": "code",
   "execution_count": null,
   "id": "e2a17248",
   "metadata": {
    "id": "ly3THPi7PdLJ"
   },
   "outputs": [],
   "source": [
    "# Your answer goes here\n"
   ]
  },
  {
   "cell_type": "markdown",
   "id": "d7b71ded",
   "metadata": {
    "id": "d7b71ded"
   },
   "source": [
    "To evaluate how good our decision tree is for determining price categories, we want to measure the error of the predictions on the test set. To do so, the IDS team provided you helper functions below."
   ]
  },
  {
   "cell_type": "code",
   "execution_count": 24,
   "id": "2d0ac611",
   "metadata": {},
   "outputs": [],
   "source": [
    "import pydotplus\n",
    "import networkx"
   ]
  },
  {
   "cell_type": "code",
   "execution_count": 25,
   "id": "ywjosLTaa8sY",
   "metadata": {
    "id": "ywjosLTaa8sY"
   },
   "outputs": [],
   "source": [
    "def get_name_value_dict(graph):\n",
    "    id_label_dict = {}\n",
    "    root = decisionTree.root\n",
    "    visited = set() # Set to keep track of visited nodes of graph.\n",
    "\n",
    "    def dfs(visited, graph, node):#function for dfs \n",
    "        id_label_dict[node.name] = node.value\n",
    "        if node not in visited:\n",
    "            if node.next:\n",
    "                id_label_dict[node.next.name] = node.next.value\n",
    "            visited.add(node)\n",
    "            if node.childs:\n",
    "                for child in node.childs:\n",
    "                    if child is not None:\n",
    "                        dfs(visited, graph, child)\n",
    "            elif node.next:\n",
    "                if node.next.childs:\n",
    "                    for child in node.next.childs:\n",
    "                        if child is not None:\n",
    "                            dfs(visited, graph, child)\n",
    "    dfs(visited, graph, root)\n",
    "    return id_label_dict\n",
    "\n",
    "def get_predictor(tree):\n",
    "  id_label_dict = get_name_value_dict(tree)\n",
    "  dotplus = pydotplus.graph_from_dot_data(tree.source)\n",
    "  G = networkx.nx_pydot.from_pydot(dotplus)\n",
    "  root = [n for n,d in G.in_degree() if d==0][0]\n",
    "  paths = []\n",
    "  for node in G:\n",
    "      if G.out_degree(node)==0: #it's a leaf\n",
    "          paths.append(networkx.shortest_path(G, root, node))\n",
    "  new_paths = []\n",
    "  for path in paths:\n",
    "      for name, value in id_label_dict.items():\n",
    "          path = ([p.replace(name, value) for p in path])\n",
    "      new_paths.append(path)\n",
    "  predictor = {}\n",
    "  for path in new_paths.copy():\n",
    "    target = path[-1]\n",
    "    classification = tuple(path[:-1])\n",
    "    predictor[classification] = target\n",
    "  return predictor\n",
    "\n",
    "def get_prediction_features(predictor):\n",
    "    features = set()\n",
    "    for key in predictor:\n",
    "        i = 0\n",
    "        while i <= len(key)-2:\n",
    "            features.add(key[i])\n",
    "            i +=2\n",
    "    return features\n",
    "            \n",
    "def get_predicted_bin(instance, features, predictor):\n",
    "  feature_values = {}\n",
    "  for feature in features:\n",
    "      feature_values[feature] = instance[feature]\n",
    "  possible_paths = predictor.keys()\n",
    "  i=0\n",
    "  while i<2*len(feature_values):\n",
    "    attribute = [path[i] for path in possible_paths][0]\n",
    "    if attribute in predictor.values():\n",
    "      break\n",
    "    feature_value = feature_values[attribute]\n",
    "    candidates = []\n",
    "    for el in possible_paths:\n",
    "      if str(el[i+1]) == str(feature_value):\n",
    "        candidates.append(el)\n",
    "    possible_paths = candidates.copy()\n",
    "    i+=2\n",
    "  return predictor[possible_paths[0]]\n",
    "\n",
    "\n",
    "\n",
    "### Dot is your visual decision tree. Adjust the naming if needed\n",
    "predictor = get_predictor(dot)\n",
    "features = get_prediction_features(predictor)\n",
    "\n",
    "#dot_file = \"Classification.dot\"\n",
    "#pdf_file = \"Classification.pdf\""
   ]
  },
  {
   "cell_type": "markdown",
   "id": "05b8fad0",
   "metadata": {},
   "source": [
    "To predict the price bin for each instance of your test set, apply the function get_predicted_bin using the variables *predictor* and *features* provided above. **(2 points)**"
   ]
  },
  {
   "cell_type": "code",
   "execution_count": null,
   "id": "04a9c317",
   "metadata": {},
   "outputs": [],
   "source": [
    "# Your answer goes here\n"
   ]
  },
  {
   "cell_type": "markdown",
   "id": "tErBbNh62NdR",
   "metadata": {
    "id": "tErBbNh62NdR"
   },
   "source": [
    "You predicted a price range for AirBnBs in your test set. However, since you cannot enter a price range for renting an apartment, we have to map the range of bins to one value. To do so, we use the mean of bins, as explained before, to predict the price. Given that, compute the mean absolute error between the prediction from the decision tree and the real price provided in the dataset. What is the mean absolute error? **(3 points)**"
   ]
  },
  {
   "cell_type": "code",
   "execution_count": null,
   "id": "4e4a988f",
   "metadata": {
    "id": "ly3THPi7PdLJ"
   },
   "outputs": [],
   "source": [
    "# Your answer goes here\n"
   ]
  },
  {
   "cell_type": "markdown",
   "id": "4e0d4040-8285-41d8-9da7-547127f999ce",
   "metadata": {
    "id": "4e0d4040-8285-41d8-9da7-547127f999ce"
   },
   "source": [
    "## Clustering (23 points)"
   ]
  },
  {
   "cell_type": "markdown",
   "id": "8bae6185",
   "metadata": {
    "id": "8bae6185"
   },
   "source": [
    "Another way to do comparables pricing is to find similar apartments using clustering. Each calculated cluster represents one or more similar apartments in the dataset. For each cluster, you calculate the mean price as a representative price. To predict the price for new apartments, you assign them to an existing cluster and give the mean price as prediction.\n",
    "\n",
    "Use the same features you used in the decision tree for the clustering as well (**number rooms, neighborhood group, room type**), and remember that your dataset is still split into a training and test set.\n",
    "\n",
    "In this task, you will use the k-means algorithm.\n",
    "*Note: To keep results comparable, please use 100 for random state and n_init when initializing the clustering algorithm. Also, remember to use the same test and training set as in the previous tasks to compare performances.*"
   ]
  },
  {
   "cell_type": "markdown",
   "id": "bHmkuRpS-pjY",
   "metadata": {
    "id": "bHmkuRpS-pjY"
   },
   "source": [
    "### Encoding (2 points)"
   ]
  },
  {
   "cell_type": "markdown",
   "id": "TjuIWkKM1ylm",
   "metadata": {
    "id": "TjuIWkKM1ylm"
   },
   "source": [
    "K-means tries to calculate the distance between different data points. Since some of the features you want to use are not numeric, apply one-hot encoding to be able to use distance measures. Use the preprocessing module of sklearn to prepare your dataset for clustering."
   ]
  },
  {
   "cell_type": "code",
   "execution_count": null,
   "id": "b6285240",
   "metadata": {
    "id": "ly3THPi7PdLJ"
   },
   "outputs": [],
   "source": [
    "# Your answer goes here\n"
   ]
  },
  {
   "cell_type": "markdown",
   "id": "LYtN1tb8-0Yf",
   "metadata": {
    "id": "LYtN1tb8-0Yf"
   },
   "source": [
    "### Choosing number of clusters (8 points)"
   ]
  },
  {
   "cell_type": "markdown",
   "id": "a58f00cf",
   "metadata": {
    "id": "a58f00cf"
   },
   "source": [
    "In k-means, the number of wanted clusters is a parameter one can decide on. Since this is information you do not have at this time, you choose to use the data to decide.\n",
    "\n",
    "You cluster on the training dataset by using `k` number of clusters where `k` is between 4 and 15. Since you are interested in the price, for each clustering, you calculate the **standard deviation of the mean prices for the clusters**. Therefore, for each clustering:\n",
    "1. Calculate the mean price for each of the resulting clusters.\n",
    "2. Calculate the standard deviation of the mean prices calculated in 1.\n",
    "\n",
    "Plot a diagram where on the `x-axis` you will have the *number of clusters used* and on the `y-axis` the *standard deviation of the means*.\n",
    "\n",
    "In your opinion, which amount of clusters makes more sense? Explain your answer."
   ]
  },
  {
   "cell_type": "code",
   "execution_count": null,
   "id": "cf32d53e",
   "metadata": {
    "id": "ly3THPi7PdLJ"
   },
   "outputs": [],
   "source": [
    "# Your answer goes here\n"
   ]
  },
  {
   "cell_type": "markdown",
   "id": "79a62a5b",
   "metadata": {},
   "source": [
    "_Answer:_\n",
    "\n"
   ]
  },
  {
   "cell_type": "markdown",
   "id": "8047129d",
   "metadata": {
    "id": "8047129d"
   },
   "source": [
    "**Note:** No matter the conclusion made in the previous task, from now on, you use the clustering model with **9 clusters** for predicting the price for your apartment and evaluating the clustering technique."
   ]
  },
  {
   "cell_type": "markdown",
   "id": "cd39a5ea",
   "metadata": {},
   "source": [
    "### Pricing your apartment (3 points)\n",
    "\n",
    "To predict the price for your apartment, calculate in which cluster your apartment would be and use the mean value of the cluster as a possible price."
   ]
  },
  {
   "cell_type": "code",
   "execution_count": null,
   "id": "50a772aa",
   "metadata": {
    "id": "ly3THPi7PdLJ"
   },
   "outputs": [],
   "source": [
    "# Your answer goes here\n",
    "# cluster for 9 clusters\n"
   ]
  },
  {
   "cell_type": "markdown",
   "id": "_MyMuKLPVihY",
   "metadata": {
    "id": "_MyMuKLPVihY"
   },
   "source": [
    "### Evaluating clustering (10 points)\n",
    "\n",
    "You want to evaluate how well your clustering worked. In your case, two things can be evaluated:\n",
    "\n",
    "1.   Whether the clustering technique can group similar apartments together\n",
    "2.   Whether other people determine the price of their apartment as you did, meaning whether similar apartments get a similar price"
   ]
  },
  {
   "cell_type": "markdown",
   "id": "O3VJSoR9VseI",
   "metadata": {
    "id": "O3VJSoR9VseI"
   },
   "source": [
    "You are going to evaluate the clustering technique visually. The IDS team provides you with the following fancy code that reduces your input to two dimensions."
   ]
  },
  {
   "cell_type": "code",
   "execution_count": null,
   "id": "IaMFg-ogVvpZ",
   "metadata": {
    "colab": {
     "base_uri": "https://localhost:8080/"
    },
    "id": "IaMFg-ogVvpZ",
    "outputId": "36e6a0f2-75fb-4331-8337-c3c9fa893e02"
   },
   "outputs": [],
   "source": [
    "import umap.umap_ as umap\n",
    "\n",
    "#Preprocessing numerical\n",
    "full_data = x_train # use the train dataset here\n",
    "numerical = full_data.select_dtypes(exclude='object')\n",
    "\n",
    "for c in numerical.columns:\n",
    "    pt = sklearn.preprocessing.PowerTransformer()\n",
    "    numerical.loc[:, c] = pt.fit_transform(np.array(numerical[c]).reshape(-1, 1))\n",
    "    \n",
    "##preprocessing categorical\n",
    "categorical = full_data.select_dtypes(include='object')\n",
    "categorical = pd.get_dummies(categorical)\n",
    "\n",
    "#Percentage of columns which are categorical is used as weight parameter in embeddings later\n",
    "categorical_weight = len(full_data.select_dtypes(include='object').columns) / full_data.shape[1]\n",
    "\n",
    "#Embedding numerical & categorical\n",
    "fit1 = umap.UMAP(metric='l2').fit(numerical)\n",
    "fit2 = umap.UMAP(metric='dice').fit(categorical)\n",
    "\n",
    "#Augmenting the numerical embedding with categorical\n",
    "intersection = umap.general_simplicial_set_intersection(fit1.graph_, fit2.graph_, weight=categorical_weight)\n",
    "intersection = umap.reset_local_connectivity(intersection)\n",
    "embedding = umap.simplicial_set_embedding(fit1._raw_data, intersection, fit1.n_components,\n",
    "                                                fit1._initial_alpha, fit1._a, fit1._b,\n",
    "                                                fit1.repulsion_strength, fit1.negative_sample_rate,\n",
    "                                                200, 'random', np.random, fit1.metric,\n",
    "                                                fit1._metric_kwds, False, {}, False)\n",
    "\n",
    "# Extracting the resulting dimensions\n",
    "dimension1 = embedding[0].T[0]\n",
    "dimension2 = embedding[0].T[1]"
   ]
  },
  {
   "cell_type": "markdown",
   "id": "1ea842d4",
   "metadata": {},
   "source": [
    "Create a scatter plot from the two dimensions and use the cluster labels for coloring the data points. Use the train set for the visualization. Discuss the result. **(5 points)**"
   ]
  },
  {
   "cell_type": "code",
   "execution_count": null,
   "id": "f319f3d2",
   "metadata": {
    "id": "ly3THPi7PdLJ"
   },
   "outputs": [],
   "source": [
    "# Your answer goes here\n"
   ]
  },
  {
   "cell_type": "markdown",
   "id": "1c822564",
   "metadata": {},
   "source": [
    "_Answer:_\n",
    "\n"
   ]
  },
  {
   "cell_type": "markdown",
   "id": "EFNtFLuyV7yQ",
   "metadata": {
    "id": "EFNtFLuyV7yQ"
   },
   "source": [
    "We next evaluate whether similar apartments (considering the attributes we chose) get similar prices. To do this, we use our test set. Assign each apartment of the test set to the nearest centroid. Predict the price of the apartments in the test set by taking the mean price of the cluster they was assigned to. Calculate the mean absolute error between the predicted and real prices. **(5 points)**"
   ]
  },
  {
   "cell_type": "code",
   "execution_count": null,
   "id": "cf6ae627",
   "metadata": {
    "id": "ly3THPi7PdLJ"
   },
   "outputs": [],
   "source": [
    "# Your answer goes here\n"
   ]
  },
  {
   "cell_type": "markdown",
   "id": "qxrtlduTBkRQ",
   "metadata": {
    "id": "qxrtlduTBkRQ"
   },
   "source": [
    "## Final comments on the price prediction (2 points)\n",
    "\n",
    "Please compare the three approaches used for determining the price. Do they provide a good way of determining the price?"
   ]
  },
  {
   "cell_type": "markdown",
   "id": "93dedc80",
   "metadata": {},
   "source": [
    "_Answer:_\n",
    "\n"
   ]
  },
  {
   "cell_type": "markdown",
   "id": "a6797ffe-8983-42d2-891d-7df7d8f9fc85",
   "metadata": {
    "id": "a6797ffe-8983-42d2-891d-7df7d8f9fc85"
   },
   "source": [
    "## Question 3: Investigating Price Elasticity (32 Points)"
   ]
  },
  {
   "cell_type": "markdown",
   "id": "88ca941f-cdf0-45fa-b930-b55a21c71e86",
   "metadata": {
    "id": "88ca941f-cdf0-45fa-b930-b55a21c71e86"
   },
   "source": [
    "You show your results to Toby, excited about the price suggestions you got from the decision tree and clustering. You decide to take the higher price, which naturally means more income.\n",
    "\n",
    "However, he points you to one central flaw in your thinking: The number of bookings is not independent of the price. Therefore, you can not just take any price and assume that this will lead to more income than a lower price, as the demand (utilization) for your apartment might decrease. This is called **price elasticity**.\n",
    "\n",
    "You want to verify what Toby has been telling you. You extracted the utilization column of your dataset by grabbing the available data from AirBnB's calendar (smart!). The utilization values are contained in dataset **AirBnB_utilization.csv**. **Show several graphs investigating price elasticity.** For example, you might plot the utilization in relation to the price and color according to different variable values. \n",
    "After you have verified Toby's statements, you want to learn price elasticity from the dataset (the utilization of an apartment given the price, the number of rooms, the room type, and the neighborhood group, i.e., the same features as before). With the learned price elasticity, you want to evaluate which of the proposed prices (decision tree or clustering) is the better choice. **(2 points)**"
   ]
  },
  {
   "cell_type": "code",
   "execution_count": null,
   "id": "14e26b23",
   "metadata": {
    "id": "ly3THPi7PdLJ"
   },
   "outputs": [],
   "source": [
    "# Your answer goes here\n"
   ]
  },
  {
   "cell_type": "markdown",
   "id": "3014ad7a-a391-4485-9395-b69c3f081ee8",
   "metadata": {
    "id": "3014ad7a-a391-4485-9395-b69c3f081ee8"
   },
   "source": [
    "You will investigate the relationship between price and utilization in this subtask. First, you will train different models and choose the one that best predicts utilization for an apartment. Second, you will evaluate which of the proposed prices of decision tree and clustering prices were better, assuming that your model provides the correct utilization. Third, you will conclude your investigation and provide a pricing decision."
   ]
  },
  {
   "cell_type": "markdown",
   "id": "dc64c4de-fa5c-41fe-8bbe-3bb3c9008534",
   "metadata": {
    "id": "dc64c4de-fa5c-41fe-8bbe-3bb3c9008534"
   },
   "source": [
    "### Learning price elasticity (25 points)\n",
    "You want to use different supervised learning techniques to learn price elasticity. You decide on linear regression, SVM, and multilayer perceptrons. However, you have to preprocess the data. Use the features of the neighborhood group, the room type, the number of rooms, and the price to predict the utilization. Split into training and testing data (test size 5%)."
   ]
  },
  {
   "cell_type": "markdown",
   "id": "UjOJNxt_UrQr",
   "metadata": {
    "id": "UjOJNxt_UrQr"
   },
   "source": [
    "#### Prepare the data set by splitting, one-hot encoding, and normalizing. (5 points)"
   ]
  },
  {
   "cell_type": "code",
   "execution_count": null,
   "id": "7522c215",
   "metadata": {
    "id": "ly3THPi7PdLJ"
   },
   "outputs": [],
   "source": [
    "# Your answer goes here\n"
   ]
  },
  {
   "cell_type": "markdown",
   "id": "JEKOoD10VF9y",
   "metadata": {
    "id": "JEKOoD10VF9y"
   },
   "source": [
    "For each technique, use 5-cross-fold validation for hyperparameter optimization and assess the performance on the test set. "
   ]
  },
  {
   "cell_type": "markdown",
   "id": "c24bef91-6a16-4b09-a0e7-3069a687ed07",
   "metadata": {
    "id": "c24bef91-6a16-4b09-a0e7-3069a687ed07"
   },
   "source": [
    "#### Regression (5 points)"
   ]
  },
  {
   "cell_type": "markdown",
   "id": "jK-Rpzm2kBEu",
   "metadata": {
    "id": "jK-Rpzm2kBEu"
   },
   "source": [
    "Learn a linear regression to predict the utilization of an AirBnB."
   ]
  },
  {
   "cell_type": "code",
   "execution_count": null,
   "id": "37d648e1",
   "metadata": {
    "id": "ly3THPi7PdLJ"
   },
   "outputs": [],
   "source": [
    "# Your answer goes here\n"
   ]
  },
  {
   "cell_type": "markdown",
   "id": "KXaCxzVRkQT9",
   "metadata": {
    "id": "KXaCxzVRkQT9"
   },
   "source": [
    "What is the mean absolute error achieved on the test data?"
   ]
  },
  {
   "cell_type": "code",
   "execution_count": null,
   "id": "f11f7bf2",
   "metadata": {
    "id": "ly3THPi7PdLJ"
   },
   "outputs": [],
   "source": [
    "# Your answer goes here\n"
   ]
  },
  {
   "cell_type": "markdown",
   "id": "Qod_TrT-kW8H",
   "metadata": {
    "id": "Qod_TrT-kW8H"
   },
   "source": [
    "Show (draw!) the price elasticity for your apartment. "
   ]
  },
  {
   "cell_type": "code",
   "execution_count": null,
   "id": "5ee85945",
   "metadata": {
    "id": "ly3THPi7PdLJ"
   },
   "outputs": [],
   "source": [
    "# Your answer goes here\n"
   ]
  },
  {
   "cell_type": "markdown",
   "id": "ae77f7d2-4752-49f8-b5e8-5bffda6e64d2",
   "metadata": {
    "id": "ae77f7d2-4752-49f8-b5e8-5bffda6e64d2"
   },
   "source": [
    "#### Linear SVR (5 points)"
   ]
  },
  {
   "cell_type": "markdown",
   "id": "s0NzpYCzs8y9",
   "metadata": {
    "id": "s0NzpYCzs8y9"
   },
   "source": [
    "Train and evaluate a Linear SVR (Support Vector Regression) model."
   ]
  },
  {
   "cell_type": "code",
   "execution_count": null,
   "id": "385ccf8e",
   "metadata": {
    "id": "ly3THPi7PdLJ"
   },
   "outputs": [],
   "source": [
    "# Your answer goes here\n"
   ]
  },
  {
   "cell_type": "markdown",
   "id": "YCccX3ZOdiiQ",
   "metadata": {
    "id": "YCccX3ZOdiiQ"
   },
   "source": [
    "What is the mean absolute error achieved on the test data?"
   ]
  },
  {
   "cell_type": "code",
   "execution_count": null,
   "id": "2bbfe034",
   "metadata": {
    "id": "ly3THPi7PdLJ"
   },
   "outputs": [],
   "source": [
    "# Your answer goes here\n"
   ]
  },
  {
   "cell_type": "markdown",
   "id": "akKwnMMgdrQX",
   "metadata": {
    "id": "akKwnMMgdrQX"
   },
   "source": [
    "Show (draw!) the price elasticity for your apartment. "
   ]
  },
  {
   "cell_type": "code",
   "execution_count": null,
   "id": "48c2acb0",
   "metadata": {
    "id": "ly3THPi7PdLJ"
   },
   "outputs": [],
   "source": [
    "# Your answer goes here\n"
   ]
  },
  {
   "cell_type": "markdown",
   "id": "d9737709-05dc-43e3-ad50-34d0bd89606c",
   "metadata": {},
   "source": [
    "#### Learning Non-Linear Relationships"
   ]
  },
  {
   "cell_type": "markdown",
   "id": "c50c7b78-3bf4-40cd-a8ca-1b6ca399df9f",
   "metadata": {},
   "source": [
    "You realize that learning linear relationships only provides limited performance. You want to learn non-linear relationships. First, you will learn non-linear relationships using linear regression and kernels. Second, you will use non-linear kernels in the Support Vector Regression. Third, you will use neural networks."
   ]
  },
  {
   "cell_type": "markdown",
   "id": "3f6422fa-115f-441e-a3bc-abdea38f4b25",
   "metadata": {},
   "source": [
    "#### Kernels in Regression (2.5 points)"
   ]
  },
  {
   "cell_type": "markdown",
   "id": "e016dd91-0b6d-47d6-bf86-7485b3cd623c",
   "metadata": {},
   "source": [
    "Use a transformation of the price and a regression to incorporate non-linear relationships, as learned in the lecture. You can try different kernel functions, but at least you should use one quadratic kernel."
   ]
  },
  {
   "cell_type": "code",
   "execution_count": null,
   "id": "02440e18-d727-4fb2-a8e5-aa3d0b79d58d",
   "metadata": {},
   "outputs": [],
   "source": [
    "# Your answer goes here\n"
   ]
  },
  {
   "cell_type": "markdown",
   "id": "2e28b4fb-b9f2-4408-983a-1053034003bc",
   "metadata": {},
   "source": [
    "What is the mean absolute error achieved on the test data?"
   ]
  },
  {
   "cell_type": "code",
   "execution_count": null,
   "id": "f0e3ca24-6c5e-40c2-ad2d-e9d09670f573",
   "metadata": {},
   "outputs": [],
   "source": [
    "# Your answer goes here\n"
   ]
  },
  {
   "cell_type": "markdown",
   "id": "dca155df-d2e2-4d0e-b8d0-db8e780828aa",
   "metadata": {},
   "source": [
    "Show (draw!) the price elasticity for your apartment. "
   ]
  },
  {
   "cell_type": "code",
   "execution_count": null,
   "id": "d462859b-ae69-4799-bbb3-42ba65609b90",
   "metadata": {},
   "outputs": [],
   "source": [
    "# Your answer goes here\n"
   ]
  },
  {
   "cell_type": "markdown",
   "id": "39ad54ac-0056-4204-bae4-f4098e5f1175",
   "metadata": {
    "id": "ae77f7d2-4752-49f8-b5e8-5bffda6e64d2"
   },
   "source": [
    "#### Kernels in SVR (2.5 points)"
   ]
  },
  {
   "cell_type": "markdown",
   "id": "61e205a3-ed09-4dfd-9d38-95cf7ef048e5",
   "metadata": {
    "id": "s0NzpYCzs8y9"
   },
   "source": [
    "Train and evaluate an SVR (Support Vector Regression) model with different, non-linear kernels. You can limit the size of your training set to 25000 samples to make the problem feasible in computation time."
   ]
  },
  {
   "cell_type": "code",
   "execution_count": null,
   "id": "8fc03286-feeb-413e-8389-fede8fe8d11a",
   "metadata": {
    "id": "ly3THPi7PdLJ"
   },
   "outputs": [],
   "source": [
    "# Your answer goes here\n"
   ]
  },
  {
   "cell_type": "markdown",
   "id": "53fb862b-97c2-42fa-9f44-f58cdbb95cba",
   "metadata": {
    "id": "YCccX3ZOdiiQ"
   },
   "source": [
    "What is the mean absolute error achieved on the test data?"
   ]
  },
  {
   "cell_type": "code",
   "execution_count": null,
   "id": "05343b84-1597-41b7-b7b6-4fa7bc5e7e82",
   "metadata": {
    "id": "ly3THPi7PdLJ"
   },
   "outputs": [],
   "source": [
    "# Your answer goes here\n"
   ]
  },
  {
   "cell_type": "markdown",
   "id": "3f9f3d21-40ab-4aa5-9b0b-e40e7fcc00e8",
   "metadata": {
    "id": "akKwnMMgdrQX"
   },
   "source": [
    "Show (draw!) the price elasticity for your apartment. "
   ]
  },
  {
   "cell_type": "code",
   "execution_count": null,
   "id": "42c2da55-efb6-410a-8c37-56bf4abaf043",
   "metadata": {
    "id": "ly3THPi7PdLJ"
   },
   "outputs": [],
   "source": [
    "# Your answer goes here\n"
   ]
  },
  {
   "cell_type": "markdown",
   "id": "d43359b3-a2a4-4cda-90a8-0f66b04aa3fb",
   "metadata": {},
   "source": [
    "What is your conclusion on using kernels?"
   ]
  },
  {
   "cell_type": "markdown",
   "id": "a01dafcb-ce55-453c-a158-a46ab8bbfd1e",
   "metadata": {},
   "source": [
    "_Answer:_\n",
    "\n"
   ]
  },
  {
   "cell_type": "markdown",
   "id": "39ea35b3-b236-429d-81cb-17fd6877aed4",
   "metadata": {
    "id": "39ea35b3-b236-429d-81cb-17fd6877aed4"
   },
   "source": [
    "#### Neural Network (5 points)"
   ]
  },
  {
   "cell_type": "markdown",
   "id": "79IHOFdbkmN-",
   "metadata": {
    "id": "79IHOFdbkmN-"
   },
   "source": [
    "Learn a neural network (multilayer perceptron) to predict the utilization of an AirBnB."
   ]
  },
  {
   "cell_type": "code",
   "execution_count": null,
   "id": "d963fd7e",
   "metadata": {
    "id": "ly3THPi7PdLJ"
   },
   "outputs": [],
   "source": [
    "# Your answer goes here\n"
   ]
  },
  {
   "cell_type": "markdown",
   "id": "NEh_vR3gkyZG",
   "metadata": {
    "id": "NEh_vR3gkyZG"
   },
   "source": [
    "What is the mean absolute error achieved on the test data?"
   ]
  },
  {
   "cell_type": "code",
   "execution_count": null,
   "id": "3660d9c1",
   "metadata": {
    "id": "ly3THPi7PdLJ"
   },
   "outputs": [],
   "source": [
    "# Your answer goes here\n"
   ]
  },
  {
   "cell_type": "markdown",
   "id": "PUwlWri4kzze",
   "metadata": {
    "id": "PUwlWri4kzze"
   },
   "source": [
    "Show (draw!) the price elasticity for your apartment. "
   ]
  },
  {
   "cell_type": "code",
   "execution_count": null,
   "id": "9d42d222",
   "metadata": {
    "id": "ly3THPi7PdLJ"
   },
   "outputs": [],
   "source": [
    "# Your answer goes here\n"
   ]
  },
  {
   "cell_type": "markdown",
   "id": "7e9c469a-9ef3-45b5-a225-ff4109086d16",
   "metadata": {
    "id": "7e9c469a-9ef3-45b5-a225-ff4109086d16"
   },
   "source": [
    "### Profit discrepencies when incorporating price elasticity (5 points)"
   ]
  },
  {
   "cell_type": "markdown",
   "id": "OmfvMMkWk-Dt",
   "metadata": {
    "id": "OmfvMMkWk-Dt"
   },
   "source": [
    "Use the model that best captures price elasticity on the testing set. You can assume that this model accurately captures price elasticity, i.e., is the ground truth. What is the better of the two proposed prices? Is the better price the optimal price?"
   ]
  },
  {
   "cell_type": "code",
   "execution_count": null,
   "id": "d0b855ae",
   "metadata": {
    "id": "ly3THPi7PdLJ"
   },
   "outputs": [],
   "source": [
    "# Your answer goes here\n"
   ]
  },
  {
   "cell_type": "markdown",
   "id": "4878657a",
   "metadata": {},
   "source": [
    "_Answer:_\n",
    "\n"
   ]
  },
  {
   "cell_type": "markdown",
   "id": "8827d79d-7f99-4e6c-af6c-9ba7ff7509bc",
   "metadata": {
    "id": "8827d79d-7f99-4e6c-af6c-9ba7ff7509bc"
   },
   "source": [
    "# Question 4: Conclusion (5 points)"
   ]
  },
  {
   "cell_type": "markdown",
   "id": "38a971e0-7b6b-414f-a845-5379cd705838",
   "metadata": {
    "id": "38a971e0-7b6b-414f-a845-5379cd705838"
   },
   "source": [
    "Summarize your findings and discuss limitations."
   ]
  },
  {
   "cell_type": "markdown",
   "id": "d5c1c314",
   "metadata": {},
   "source": [
    "_Answer:_ \n",
    "\n"
   ]
  }
 ],
 "metadata": {
  "colab": {
   "collapsed_sections": [],
   "provenance": []
  },
  "kernelspec": {
   "display_name": "Python 3 (ipykernel)",
   "language": "python",
   "name": "python3"
  },
  "language_info": {
   "codemirror_mode": {
    "name": "ipython",
    "version": 3
   },
   "file_extension": ".py",
   "mimetype": "text/x-python",
   "name": "python",
   "nbconvert_exporter": "python",
   "pygments_lexer": "ipython3",
   "version": "3.9.12"
  }
 },
 "nbformat": 4,
 "nbformat_minor": 5
}
